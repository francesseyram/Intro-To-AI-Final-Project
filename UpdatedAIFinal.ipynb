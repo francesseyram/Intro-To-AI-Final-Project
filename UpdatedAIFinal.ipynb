{
  "cells": [
    {
      "cell_type": "code",
      "execution_count": null,
      "metadata": {
        "id": "54hTlkpgiyfG"
      },
      "outputs": [],
      "source": [
        "import pandas as pd\n",
        "from sklearn.model_selection import train_test_split\n",
        "from sklearn.preprocessing import LabelEncoder, StandardScaler\n",
        "from transformers import BertTokenizer, BertModel\n",
        "import torch\n",
        "import torch\n",
        "import torch.nn as nn\n",
        "import torch.optim as optim\n",
        "from torch.utils.data import DataLoader, TensorDataset\n",
        "import joblib\n",
        "from flask import Flask, request, jsonify\n",
        "import numpy as np\n",
        "from sklearn.metrics import mean_absolute_error, mean_squared_error, mean_squared_log_error, r2_score"
      ]
    },
    {
      "cell_type": "code",
      "execution_count": null,
      "metadata": {
        "colab": {
          "base_uri": "https://localhost:8080/"
        },
        "id": "PvEgL2dTiz5m",
        "outputId": "24edbf2d-2cca-4f10-cf89-25fca618a206"
      },
      "outputs": [
        {
          "output_type": "stream",
          "name": "stdout",
          "text": [
            "Mounted at /content/drive\n"
          ]
        }
      ],
      "source": [
        "from google.colab import drive\n",
        "drive.mount('/content/drive')"
      ]
    },
    {
      "cell_type": "code",
      "execution_count": null,
      "metadata": {
        "id": "54oYW_Zeiz8-"
      },
      "outputs": [],
      "source": [
        "#loading the dataset\n",
        "Drug = pd.read_csv(\"/content/drive/MyDrive/Colab Notebooks/Drug.csv\")"
      ]
    },
    {
      "cell_type": "markdown",
      "metadata": {
        "id": "W8J8VtcxjjYD"
      },
      "source": [
        "### Data Preprocessing"
      ]
    },
    {
      "cell_type": "code",
      "execution_count": null,
      "metadata": {
        "colab": {
          "base_uri": "https://localhost:8080/"
        },
        "id": "IpHSgN1ljnpg",
        "outputId": "851731b9-c44f-4da9-ff5e-9dfd6af1b664"
      },
      "outputs": [
        {
          "output_type": "stream",
          "name": "stdout",
          "text": [
            "<class 'pandas.core.frame.DataFrame'>\n",
            "RangeIndex: 2219 entries, 0 to 2218\n",
            "Data columns (total 9 columns):\n",
            " #   Column        Non-Null Count  Dtype  \n",
            "---  ------        --------------  -----  \n",
            " 0   Condition     2219 non-null   object \n",
            " 1   Drug          2219 non-null   object \n",
            " 2   Indication    2219 non-null   object \n",
            " 3   Type          2219 non-null   object \n",
            " 4   Reviews       2219 non-null   object \n",
            " 5   Effective     2219 non-null   float64\n",
            " 6   EaseOfUse     2219 non-null   float64\n",
            " 7   Satisfaction  2219 non-null   float64\n",
            " 8   Information   2219 non-null   object \n",
            "dtypes: float64(3), object(6)\n",
            "memory usage: 156.1+ KB\n"
          ]
        }
      ],
      "source": [
        "Drug.info()"
      ]
    },
    {
      "cell_type": "markdown",
      "source": [
        "### Data Pre-processing"
      ],
      "metadata": {
        "id": "7ydneiWTffIT"
      }
    },
    {
      "cell_type": "code",
      "execution_count": null,
      "metadata": {
        "id": "MKi6kRQHju8u"
      },
      "outputs": [],
      "source": [
        "#removing all duplicate columns\n",
        "Drug = Drug.drop_duplicates()"
      ]
    },
    {
      "cell_type": "code",
      "execution_count": null,
      "metadata": {
        "id": "pw4TerUMjzbl"
      },
      "outputs": [],
      "source": [
        "#Dropping the type  column\n",
        "Drug.drop(\"Type\", axis = 1,inplace = True)"
      ]
    },
    {
      "cell_type": "code",
      "execution_count": null,
      "metadata": {
        "colab": {
          "base_uri": "https://localhost:8080/"
        },
        "id": "wA0rL-SHj_nN",
        "outputId": "3de4c08b-1299-4dc7-a579-b9871250405d"
      },
      "outputs": [
        {
          "output_type": "stream",
          "name": "stdout",
          "text": [
            "<class 'pandas.core.frame.DataFrame'>\n",
            "Index: 1753 entries, 0 to 2218\n",
            "Data columns (total 8 columns):\n",
            " #   Column        Non-Null Count  Dtype  \n",
            "---  ------        --------------  -----  \n",
            " 0   Condition     1753 non-null   object \n",
            " 1   Drug          1753 non-null   object \n",
            " 2   Indication    1753 non-null   object \n",
            " 3   Reviews       1753 non-null   object \n",
            " 4   Effective     1753 non-null   float64\n",
            " 5   EaseOfUse     1753 non-null   float64\n",
            " 6   Satisfaction  1753 non-null   float64\n",
            " 7   Information   1753 non-null   object \n",
            "dtypes: float64(3), object(5)\n",
            "memory usage: 123.3+ KB\n"
          ]
        }
      ],
      "source": [
        "Drug.info()"
      ]
    },
    {
      "cell_type": "code",
      "execution_count": null,
      "metadata": {
        "id": "REpwi0QvkBUu"
      },
      "outputs": [],
      "source": [
        "#Removing the post fix from the reviews\n",
        "Drug['Reviews'] = Drug['Reviews'].str.replace(' Reviews', '', regex=False)\n",
        "#converting reviews to a numerical value\n",
        "Drug['Reviews'] = Drug['Reviews'].astype(int)"
      ]
    },
    {
      "cell_type": "code",
      "execution_count": null,
      "metadata": {
        "colab": {
          "base_uri": "https://localhost:8080/"
        },
        "id": "q9QbfmZAkkn1",
        "outputId": "2eea0133-6523-434a-edb7-a628437653c7"
      },
      "outputs": [
        {
          "output_type": "stream",
          "name": "stdout",
          "text": [
            "<class 'pandas.core.frame.DataFrame'>\n",
            "Index: 1753 entries, 0 to 2218\n",
            "Data columns (total 8 columns):\n",
            " #   Column        Non-Null Count  Dtype  \n",
            "---  ------        --------------  -----  \n",
            " 0   Condition     1753 non-null   object \n",
            " 1   Drug          1753 non-null   object \n",
            " 2   Indication    1753 non-null   object \n",
            " 3   Reviews       1753 non-null   int64  \n",
            " 4   Effective     1753 non-null   float64\n",
            " 5   EaseOfUse     1753 non-null   float64\n",
            " 6   Satisfaction  1753 non-null   float64\n",
            " 7   Information   1753 non-null   object \n",
            "dtypes: float64(3), int64(1), object(4)\n",
            "memory usage: 123.3+ KB\n"
          ]
        }
      ],
      "source": [
        "Drug.info()"
      ]
    },
    {
      "cell_type": "code",
      "source": [
        "#No missing values were found, hence no imputation"
      ],
      "metadata": {
        "id": "7CPXTXGUf3HX"
      },
      "execution_count": null,
      "outputs": []
    },
    {
      "cell_type": "code",
      "execution_count": null,
      "metadata": {
        "id": "ps0tjOTKkmeC"
      },
      "outputs": [],
      "source": [
        " #Declaring the label encoder\n",
        " label_encoders = {}\n",
        " categorical_features = ['Condition', 'Drug', 'Indication']"
      ]
    },
    {
      "cell_type": "code",
      "execution_count": null,
      "metadata": {
        "id": "CwOyC38elHwc"
      },
      "outputs": [],
      "source": [
        "#Encoding the categorical variables\n",
        "for feature in categorical_features:\n",
        "    label_en = LabelEncoder()\n",
        "    Drug[feature] = label_en.fit_transform(Drug[feature])\n",
        "    label_encoders[feature] = label_en"
      ]
    },
    {
      "cell_type": "markdown",
      "source": [
        "### Feature Engineering"
      ],
      "metadata": {
        "id": "Q_bc1HmcfzQ6"
      }
    },
    {
      "cell_type": "code",
      "execution_count": null,
      "metadata": {
        "id": "9yy-mSxflj2J"
      },
      "outputs": [],
      "source": [
        "# Declaring the standard scaler\n",
        "scaler = StandardScaler()"
      ]
    },
    {
      "cell_type": "code",
      "execution_count": null,
      "metadata": {
        "id": "9jap4Z5amCCp"
      },
      "outputs": [],
      "source": [
        "#Scaling the reviews feature\n",
        "Drug[['Reviews']] = scaler.fit_transform(Drug[['Reviews']])"
      ]
    },
    {
      "cell_type": "code",
      "source": [
        "joblib.dump(label_encoders, '/content/drive/MyDrive/Shared Folder/label_encoders.joblib')\n",
        "joblib.dump(scaler, '/content/drive/MyDrive/Shared Folder/scaler.joblib')"
      ],
      "metadata": {
        "colab": {
          "base_uri": "https://localhost:8080/"
        },
        "id": "Rs1QtqSbupyZ",
        "outputId": "69231c33-6486-4ad3-9c72-3950110fc170"
      },
      "execution_count": null,
      "outputs": [
        {
          "output_type": "execute_result",
          "data": {
            "text/plain": [
              "['/content/drive/MyDrive/Shared Folder/scaler.joblib']"
            ]
          },
          "metadata": {},
          "execution_count": 17
        }
      ]
    },
    {
      "cell_type": "code",
      "execution_count": null,
      "metadata": {
        "colab": {
          "base_uri": "https://localhost:8080/"
        },
        "id": "ect814OPmGec",
        "outputId": "d1e1f158-edcf-4f20-9204-8699d79565aa"
      },
      "outputs": [
        {
          "name": "stdout",
          "output_type": "stream",
          "text": [
            "<class 'pandas.core.frame.DataFrame'>\n",
            "Index: 1753 entries, 0 to 2218\n",
            "Data columns (total 8 columns):\n",
            " #   Column        Non-Null Count  Dtype  \n",
            "---  ------        --------------  -----  \n",
            " 0   Condition     1753 non-null   int64  \n",
            " 1   Drug          1753 non-null   int64  \n",
            " 2   Indication    1753 non-null   int64  \n",
            " 3   Reviews       1753 non-null   float64\n",
            " 4   Effective     1753 non-null   float64\n",
            " 5   EaseOfUse     1753 non-null   float64\n",
            " 6   Satisfaction  1753 non-null   float64\n",
            " 7   Information   1753 non-null   object \n",
            "dtypes: float64(4), int64(3), object(1)\n",
            "memory usage: 123.3+ KB\n"
          ]
        }
      ],
      "source": [
        "Drug.info()"
      ]
    },
    {
      "cell_type": "code",
      "execution_count": null,
      "metadata": {
        "id": "2gPuqFNKmUm7"
      },
      "outputs": [],
      "source": [
        "# Extracting target variables\n",
        "X = Drug[['Condition', 'Drug', 'Indication', 'Reviews', 'Satisfaction', 'Information']]\n",
        "y_effective = Drug['Effective']\n",
        "y_ease_of_use = Drug['EaseOfUse']"
      ]
    },
    {
      "cell_type": "code",
      "execution_count": null,
      "metadata": {
        "id": "Pl88n9iim2p_"
      },
      "outputs": [],
      "source": [
        "# Splitting data into training and validation sets\n",
        "X_train, X_val, y_train_effective, y_val_effective, y_train_ease, y_val_ease = train_test_split(\n",
        "    X, y_effective, y_ease_of_use, test_size=0.2, random_state=42)\n"
      ]
    },
    {
      "cell_type": "code",
      "execution_count": null,
      "metadata": {
        "colab": {
          "base_uri": "https://localhost:8080/",
          "height": 269,
          "referenced_widgets": [
            "7d02d06774834324a0b9b56199997c0d",
            "3b42064dcd5e4283b1e524d90294ddfd",
            "1bea7e0b67c24721a0c7f62d0b9bc321",
            "39197a9ba4fa494ba4425c83869ee5f6",
            "3a7e03e1c13d4842bd2aa73d9399f3d1",
            "8293d180e01d4a709a732fde92ec4211",
            "86b66195288f4f7f9d74eef1e57d09f9",
            "3455d86dcdf8483c9029856bda5bd5f2",
            "66198759c1eb4b3a90d8a2ac1041acff",
            "d2858dfbf13c4cdda11cddd5ce195e1d",
            "74312eb2b24c496484e39b3700c8e7a1",
            "2ba252ef3f0d460ca8c5296918f8a14e",
            "d5a7497c989f408f8ff98fcc7df731b7",
            "814c37dd8b6042af9df73d466cf9730a",
            "cdc33d1891c34ecda3fcb8c8abaecee9",
            "35e35d223a724a8fbfb4d52506a02659",
            "02f83f838252464a8869914b8bf22335",
            "b754c11e00274698bf035e53c4f29948",
            "c58c12189bb24a589e7c2a8a7218987c",
            "4c3602a92c4c405e8c103742585916d6",
            "4aa1ef33efc4437cbc57f5f44ea6ffd5",
            "d43b27d08c4d43d38e59715796d7a1bd",
            "a0b7b11016ba456b8ac8c2634fce7944",
            "36b35d1d73e3472d95a2dd6a39eb7470",
            "463c5591fe71464199d35b15fa949730",
            "5183b2e7726440c2bfdf36e658b4ab02",
            "2a70d787172d4556909b173f418791a7",
            "e94f9c4b43454b5d84905a23f07964c9",
            "f0a4546d106049a7947dbd023925bff9",
            "0ea2917d7c844243906fc554b1269ccf",
            "240b4bf4d7fd4a008bd6a95d5fbb6987",
            "8f77f9e8c6744f669bf7c7c4141e012f",
            "da02fd6337cc453fb0147a5129f86f6a",
            "575f615efe5d4c7cac4f38d3e000d576",
            "bd586d35a0104206b1f38107c2739809",
            "6601a06ac6484ebe99fa8ac712079295",
            "e0094ac486df4a9897a2e0f9caf8e086",
            "8d0a6632b7ae43bcb0e23708d2ffa880",
            "6e366e769aa84a489a9c54722cdbea2f",
            "19a0f39b1a5544eab6e2a1090f803a60",
            "e24e42bbbc44443799dacf99da4c6740",
            "36bb662d90144b48ad7f6f6ee65f9975",
            "65706e474e8c423981e088a250ae23ac",
            "dca6427f17d842cf85f0f9a50ddaae18"
          ]
        },
        "id": "l3HcPqlSnBIc",
        "outputId": "ce74e0ab-c9e8-4209-86ec-d4603be4ce03"
      },
      "outputs": [
        {
          "name": "stderr",
          "output_type": "stream",
          "text": [
            "/usr/local/lib/python3.10/dist-packages/huggingface_hub/utils/_token.py:89: UserWarning: \n",
            "The secret `HF_TOKEN` does not exist in your Colab secrets.\n",
            "To authenticate with the Hugging Face Hub, create a token in your settings tab (https://huggingface.co/settings/tokens), set it as secret in your Google Colab and restart your session.\n",
            "You will be able to reuse this secret in all of your notebooks.\n",
            "Please note that authentication is recommended but still optional to access public models or datasets.\n",
            "  warnings.warn(\n"
          ]
        },
        {
          "data": {
            "application/vnd.jupyter.widget-view+json": {
              "model_id": "7d02d06774834324a0b9b56199997c0d",
              "version_major": 2,
              "version_minor": 0
            },
            "text/plain": [
              "tokenizer_config.json:   0%|          | 0.00/48.0 [00:00<?, ?B/s]"
            ]
          },
          "metadata": {},
          "output_type": "display_data"
        },
        {
          "data": {
            "application/vnd.jupyter.widget-view+json": {
              "model_id": "2ba252ef3f0d460ca8c5296918f8a14e",
              "version_major": 2,
              "version_minor": 0
            },
            "text/plain": [
              "vocab.txt:   0%|          | 0.00/232k [00:00<?, ?B/s]"
            ]
          },
          "metadata": {},
          "output_type": "display_data"
        },
        {
          "data": {
            "application/vnd.jupyter.widget-view+json": {
              "model_id": "a0b7b11016ba456b8ac8c2634fce7944",
              "version_major": 2,
              "version_minor": 0
            },
            "text/plain": [
              "tokenizer.json:   0%|          | 0.00/466k [00:00<?, ?B/s]"
            ]
          },
          "metadata": {},
          "output_type": "display_data"
        },
        {
          "data": {
            "application/vnd.jupyter.widget-view+json": {
              "model_id": "575f615efe5d4c7cac4f38d3e000d576",
              "version_major": 2,
              "version_minor": 0
            },
            "text/plain": [
              "config.json:   0%|          | 0.00/570 [00:00<?, ?B/s]"
            ]
          },
          "metadata": {},
          "output_type": "display_data"
        }
      ],
      "source": [
        "# Tokenize 'Information' column using BERT tokenizer\n",
        "tokenizer = BertTokenizer.from_pretrained('bert-base-uncased')"
      ]
    },
    {
      "cell_type": "code",
      "execution_count": null,
      "metadata": {
        "id": "SkKEkyelnjoG"
      },
      "outputs": [],
      "source": [
        "#defining a function to tockenize the texts\n",
        "def tokenize_texts(texts, tokenizer, max_len=512):\n",
        "    return tokenizer.batch_encode_plus(\n",
        "        texts,\n",
        "        max_length=max_len,\n",
        "        padding=True,\n",
        "        truncation=True,\n",
        "        return_tensors='pt'\n",
        "    )"
      ]
    },
    {
      "cell_type": "code",
      "execution_count": null,
      "metadata": {
        "id": "huXs-Etrn3QP"
      },
      "outputs": [],
      "source": [
        "#Tockenizing the information feature in bith training and validation sets\n",
        "train_encodings = tokenize_texts(X_train['Information'].tolist(), tokenizer)\n",
        "val_encodings = tokenize_texts(X_val['Information'].tolist(), tokenizer)"
      ]
    },
    {
      "cell_type": "code",
      "execution_count": null,
      "metadata": {
        "colab": {
          "base_uri": "https://localhost:8080/",
          "height": 49,
          "referenced_widgets": [
            "24abec3c8bb84eb296134614a16adb2c",
            "aca34596e7f14a1fae8cc408966b4ae7",
            "a658ad480ee34153bbebdb4fff5af112",
            "e6cf672e836847b093256c36dff15f58",
            "267b0f939f34467b832224304ed79e0c",
            "988eafb7e2724d358a38b80ba673c73f",
            "4652a86d8d584760b6d55d125d83273f",
            "6e0e7cca0d594564afa87622b7d3137d",
            "e6d15b176c924025bc97105c93f9e6ed",
            "5cca315f9ec54fecabff950c5e481ac5",
            "aee6d26abb374ee09d34b4772290c1b3"
          ]
        },
        "id": "yo0Ew515oLZm",
        "outputId": "8d729552-56cd-4ac1-a637-f846df90d08d"
      },
      "outputs": [
        {
          "data": {
            "application/vnd.jupyter.widget-view+json": {
              "model_id": "24abec3c8bb84eb296134614a16adb2c",
              "version_major": 2,
              "version_minor": 0
            },
            "text/plain": [
              "model.safetensors:   0%|          | 0.00/440M [00:00<?, ?B/s]"
            ]
          },
          "metadata": {},
          "output_type": "display_data"
        }
      ],
      "source": [
        "#Extracting the pre-trained model from bert\n",
        "bert_model = BertModel.from_pretrained('bert-base-uncased')\n"
      ]
    },
    {
      "cell_type": "code",
      "execution_count": null,
      "metadata": {
        "id": "4Mo4zx1BocQC"
      },
      "outputs": [],
      "source": [
        "#Function to extract the important features\n",
        "def extract_bert_features(encodings, model):\n",
        "    with torch.no_grad():\n",
        "        outputs = model(**encodings)\n",
        "    return outputs.last_hidden_state.mean(dim=1).numpy()\n"
      ]
    },
    {
      "cell_type": "code",
      "execution_count": null,
      "metadata": {
        "id": "ITsQRvHCogXX"
      },
      "outputs": [],
      "source": [
        "#Extracting the most important features for the training and validation set\n",
        "X_train_bert = extract_bert_features(train_encodings, bert_model)\n",
        "X_val_bert = extract_bert_features(val_encodings, bert_model)\n"
      ]
    },
    {
      "cell_type": "code",
      "execution_count": null,
      "metadata": {
        "id": "-FMM7Pt6owBN"
      },
      "outputs": [],
      "source": [
        "# Combine BERT features with other features\n",
        "X_train_combined = pd.concat([X_train.drop(columns='Information').reset_index(drop=True),\n",
        "                              pd.DataFrame(X_train_bert)], axis=1)\n",
        "X_val_combined = pd.concat([X_val.drop(columns='Information').reset_index(drop=True),\n",
        "                            pd.DataFrame(X_val_bert)], axis=1)"
      ]
    },
    {
      "cell_type": "markdown",
      "source": [
        "### Training the Models"
      ],
      "metadata": {
        "id": "4bumw1XdgHk0"
      }
    },
    {
      "cell_type": "code",
      "execution_count": null,
      "metadata": {
        "id": "fWOAsWOds0Ev"
      },
      "outputs": [],
      "source": [
        "# Defining the neural network model using the sequential API\n",
        "input_size = X_train_combined.shape[1]\n",
        "model_effective = nn.Sequential(\n",
        "    nn.Linear(input_size, 128),\n",
        "    nn.ReLU(),\n",
        "    nn.Linear(128, 64),\n",
        "    nn.ReLU(),\n",
        "    nn.Linear(64, 1)\n",
        ")\n",
        "\n",
        "model_ease_of_use = nn.Sequential(\n",
        "    nn.Linear(input_size, 128),\n",
        "    nn.ReLU(),\n",
        "    nn.Linear(128, 64),\n",
        "    nn.ReLU(),\n",
        "    nn.Linear(64, 1)\n",
        ")"
      ]
    },
    {
      "cell_type": "code",
      "execution_count": null,
      "metadata": {
        "id": "w3UHzSt0ZQ4j"
      },
      "outputs": [],
      "source": [
        "# Preparing the dataset\n",
        "X_train_tensor = torch.tensor(X_train_combined.values, dtype=torch.float32)\n",
        "y_train_effective_tensor = torch.tensor(y_train_effective.values, dtype=torch.float32).unsqueeze(1)\n",
        "y_train_ease_tensor = torch.tensor(y_train_ease.values, dtype=torch.float32).unsqueeze(1)\n",
        "\n",
        "X_val_tensor = torch.tensor(X_val_combined.values, dtype=torch.float32)\n",
        "y_val_effective_tensor = torch.tensor(y_val_effective.values, dtype=torch.float32).unsqueeze(1)\n",
        "y_val_ease_tensor = torch.tensor(y_val_ease.values, dtype=torch.float32).unsqueeze(1)\n",
        "\n",
        "train_dataset = TensorDataset(X_train_tensor, y_train_effective_tensor, y_train_ease_tensor)\n",
        "val_dataset = TensorDataset(X_val_tensor, y_val_effective_tensor, y_val_ease_tensor)\n",
        "\n",
        "train_loader = DataLoader(train_dataset, batch_size=32, shuffle=True)\n",
        "val_loader = DataLoader(val_dataset, batch_size=32, shuffle=False)\n"
      ]
    },
    {
      "cell_type": "code",
      "execution_count": null,
      "metadata": {
        "id": "Dl2RtzWHOC9N"
      },
      "outputs": [],
      "source": [
        "# Initializing the loss function and optimizer\n",
        "criterion = nn.MSELoss()\n",
        "optimizer_effective = optim.Adam(model_effective.parameters(), lr=0.001)\n",
        "optimizer_ease_of_use = optim.Adam(model_ease_of_use.parameters(), lr=0.001)\n"
      ]
    },
    {
      "cell_type": "code",
      "execution_count": null,
      "metadata": {
        "id": "3KSXH8K_ZY-0"
      },
      "outputs": [],
      "source": [
        "# Trainninh the models\n",
        "num_epochs = 50\n",
        "\n",
        "def train_model(model, optimizer, train_loader, val_loader, criterion, target_index):\n",
        "    model.train()\n",
        "    for epoch in range(num_epochs):\n",
        "        for X_batch, y_batch_effective, y_batch_ease in train_loader:\n",
        "            y_batch = y_batch_effective if target_index == 0 else y_batch_ease\n",
        "            optimizer.zero_grad()\n",
        "            outputs = model(X_batch)\n",
        "            loss = criterion(outputs, y_batch)\n",
        "            loss.backward()\n",
        "            optimizer.step()\n",
        "\n",
        "        # Validation\n",
        "        model.eval()\n",
        "        val_loss = 0\n",
        "        with torch.no_grad():\n",
        "            for X_batch, y_batch_effective, y_batch_ease in val_loader:\n",
        "                y_batch = y_batch_effective if target_index == 0 else y_batch_ease\n",
        "                outputs = model(X_batch)\n",
        "                loss = criterion(outputs, y_batch)\n",
        "                val_loss += loss.item()\n",
        "\n",
        "        print(f'Epoch [{epoch+1}/{num_epochs}], Loss: {loss.item():.4f}, Val Loss: {val_loss/len(val_loader):.4f}')\n",
        "        model.train()"
      ]
    },
    {
      "cell_type": "code",
      "execution_count": null,
      "metadata": {
        "colab": {
          "base_uri": "https://localhost:8080/"
        },
        "id": "xfMkbDwnZb5-",
        "outputId": "d31b8e1f-c1ae-4f96-fdbb-f6ea921aca8e"
      },
      "outputs": [
        {
          "name": "stdout",
          "output_type": "stream",
          "text": [
            "Epoch [1/50], Loss: 1.1182, Val Loss: 1.1155\n",
            "Epoch [2/50], Loss: 1.1394, Val Loss: 1.2582\n",
            "Epoch [3/50], Loss: 0.8636, Val Loss: 0.9414\n",
            "Epoch [4/50], Loss: 0.6758, Val Loss: 0.7669\n",
            "Epoch [5/50], Loss: 0.4654, Val Loss: 0.6051\n",
            "Epoch [6/50], Loss: 0.6292, Val Loss: 0.7454\n",
            "Epoch [7/50], Loss: 0.3814, Val Loss: 0.5191\n",
            "Epoch [8/50], Loss: 0.3528, Val Loss: 0.4868\n",
            "Epoch [9/50], Loss: 0.1886, Val Loss: 0.3965\n",
            "Epoch [10/50], Loss: 0.2327, Val Loss: 0.4020\n",
            "Epoch [11/50], Loss: 0.3654, Val Loss: 0.6281\n",
            "Epoch [12/50], Loss: 0.1860, Val Loss: 0.3739\n",
            "Epoch [13/50], Loss: 0.1595, Val Loss: 0.3655\n",
            "Epoch [14/50], Loss: 0.1954, Val Loss: 0.4263\n",
            "Epoch [15/50], Loss: 0.1732, Val Loss: 0.3662\n",
            "Epoch [16/50], Loss: 0.2402, Val Loss: 0.4108\n",
            "Epoch [17/50], Loss: 0.1807, Val Loss: 0.3690\n",
            "Epoch [18/50], Loss: 0.1716, Val Loss: 0.3842\n",
            "Epoch [19/50], Loss: 0.1825, Val Loss: 0.3671\n",
            "Epoch [20/50], Loss: 0.1583, Val Loss: 0.3699\n",
            "Epoch [21/50], Loss: 0.2033, Val Loss: 0.3774\n",
            "Epoch [22/50], Loss: 0.3099, Val Loss: 0.4490\n",
            "Epoch [23/50], Loss: 0.1774, Val Loss: 0.3637\n",
            "Epoch [24/50], Loss: 0.1736, Val Loss: 0.3630\n",
            "Epoch [25/50], Loss: 0.2040, Val Loss: 0.3664\n",
            "Epoch [26/50], Loss: 0.1941, Val Loss: 0.4148\n",
            "Epoch [27/50], Loss: 0.2357, Val Loss: 0.3841\n",
            "Epoch [28/50], Loss: 0.1805, Val Loss: 0.3972\n",
            "Epoch [29/50], Loss: 0.1938, Val Loss: 0.4228\n",
            "Epoch [30/50], Loss: 0.1622, Val Loss: 0.3559\n",
            "Epoch [31/50], Loss: 0.1898, Val Loss: 0.3637\n",
            "Epoch [32/50], Loss: 0.1537, Val Loss: 0.3638\n",
            "Epoch [33/50], Loss: 0.2320, Val Loss: 0.4683\n",
            "Epoch [34/50], Loss: 0.1784, Val Loss: 0.3623\n",
            "Epoch [35/50], Loss: 0.1913, Val Loss: 0.4211\n",
            "Epoch [36/50], Loss: 0.3243, Val Loss: 0.4449\n",
            "Epoch [37/50], Loss: 0.1737, Val Loss: 0.3809\n",
            "Epoch [38/50], Loss: 0.1924, Val Loss: 0.3586\n",
            "Epoch [39/50], Loss: 0.1599, Val Loss: 0.3725\n",
            "Epoch [40/50], Loss: 0.1622, Val Loss: 0.3516\n",
            "Epoch [41/50], Loss: 0.1589, Val Loss: 0.3666\n",
            "Epoch [42/50], Loss: 0.2661, Val Loss: 0.4020\n",
            "Epoch [43/50], Loss: 0.1582, Val Loss: 0.3621\n",
            "Epoch [44/50], Loss: 0.2534, Val Loss: 0.4005\n",
            "Epoch [45/50], Loss: 0.2227, Val Loss: 0.3818\n",
            "Epoch [46/50], Loss: 0.1656, Val Loss: 0.3599\n",
            "Epoch [47/50], Loss: 0.1913, Val Loss: 0.3620\n",
            "Epoch [48/50], Loss: 0.1615, Val Loss: 0.3655\n",
            "Epoch [49/50], Loss: 0.1732, Val Loss: 0.3623\n",
            "Epoch [50/50], Loss: 0.3990, Val Loss: 0.5014\n",
            "Epoch [1/50], Loss: 1.5048, Val Loss: 1.0855\n",
            "Epoch [2/50], Loss: 1.4121, Val Loss: 0.9770\n",
            "Epoch [3/50], Loss: 1.3093, Val Loss: 0.9084\n",
            "Epoch [4/50], Loss: 1.3387, Val Loss: 0.9457\n",
            "Epoch [5/50], Loss: 1.2772, Val Loss: 0.8541\n",
            "Epoch [6/50], Loss: 1.1125, Val Loss: 0.7719\n",
            "Epoch [7/50], Loss: 1.0589, Val Loss: 0.7564\n",
            "Epoch [8/50], Loss: 1.1041, Val Loss: 0.7392\n",
            "Epoch [9/50], Loss: 0.9760, Val Loss: 0.6806\n",
            "Epoch [10/50], Loss: 0.9609, Val Loss: 0.6601\n",
            "Epoch [11/50], Loss: 1.0848, Val Loss: 0.7325\n",
            "Epoch [12/50], Loss: 0.9205, Val Loss: 0.6562\n",
            "Epoch [13/50], Loss: 0.9067, Val Loss: 0.6526\n",
            "Epoch [14/50], Loss: 0.8840, Val Loss: 0.6387\n",
            "Epoch [15/50], Loss: 0.8839, Val Loss: 0.6306\n",
            "Epoch [16/50], Loss: 0.9320, Val Loss: 0.6573\n",
            "Epoch [17/50], Loss: 0.9196, Val Loss: 0.6491\n",
            "Epoch [18/50], Loss: 0.9097, Val Loss: 0.6947\n",
            "Epoch [19/50], Loss: 0.8882, Val Loss: 0.6314\n",
            "Epoch [20/50], Loss: 0.9088, Val Loss: 0.6737\n",
            "Epoch [21/50], Loss: 0.9464, Val Loss: 0.7275\n",
            "Epoch [22/50], Loss: 0.8747, Val Loss: 0.6198\n",
            "Epoch [23/50], Loss: 0.9162, Val Loss: 0.6267\n",
            "Epoch [24/50], Loss: 0.8634, Val Loss: 0.6606\n",
            "Epoch [25/50], Loss: 1.1816, Val Loss: 0.8016\n",
            "Epoch [26/50], Loss: 0.9508, Val Loss: 0.7143\n",
            "Epoch [27/50], Loss: 0.8505, Val Loss: 0.6424\n",
            "Epoch [28/50], Loss: 0.8905, Val Loss: 0.6700\n",
            "Epoch [29/50], Loss: 0.8623, Val Loss: 0.6230\n",
            "Epoch [30/50], Loss: 0.8668, Val Loss: 0.6466\n",
            "Epoch [31/50], Loss: 0.9179, Val Loss: 0.7098\n",
            "Epoch [32/50], Loss: 0.8790, Val Loss: 0.6108\n",
            "Epoch [33/50], Loss: 1.1135, Val Loss: 0.9398\n",
            "Epoch [34/50], Loss: 0.8487, Val Loss: 0.6088\n",
            "Epoch [35/50], Loss: 0.8969, Val Loss: 0.6220\n",
            "Epoch [36/50], Loss: 0.8962, Val Loss: 0.6717\n",
            "Epoch [37/50], Loss: 1.0749, Val Loss: 0.7568\n",
            "Epoch [38/50], Loss: 0.9001, Val Loss: 0.6375\n",
            "Epoch [39/50], Loss: 0.8978, Val Loss: 0.6477\n",
            "Epoch [40/50], Loss: 1.0255, Val Loss: 0.6688\n",
            "Epoch [41/50], Loss: 0.8613, Val Loss: 0.6010\n",
            "Epoch [42/50], Loss: 0.8568, Val Loss: 0.5993\n",
            "Epoch [43/50], Loss: 0.9146, Val Loss: 0.6126\n",
            "Epoch [44/50], Loss: 1.0217, Val Loss: 0.6681\n",
            "Epoch [45/50], Loss: 0.9324, Val Loss: 0.6198\n",
            "Epoch [46/50], Loss: 0.8711, Val Loss: 0.6092\n",
            "Epoch [47/50], Loss: 0.8615, Val Loss: 0.6084\n",
            "Epoch [48/50], Loss: 0.8574, Val Loss: 0.6007\n",
            "Epoch [49/50], Loss: 0.8439, Val Loss: 0.6139\n",
            "Epoch [50/50], Loss: 0.8959, Val Loss: 0.6161\n"
          ]
        }
      ],
      "source": [
        "train_model(model_effective, optimizer_effective, train_loader, val_loader, criterion, target_index=0)\n",
        "train_model(model_ease_of_use, optimizer_ease_of_use, train_loader, val_loader, criterion, target_index=1)"
      ]
    },
    {
      "cell_type": "markdown",
      "source": [
        "### Evaluation and optimization"
      ],
      "metadata": {
        "id": "zFDEql6YgR5f"
      }
    },
    {
      "cell_type": "code",
      "execution_count": null,
      "metadata": {
        "id": "mTuLcirdZtLa"
      },
      "outputs": [],
      "source": [
        "#Evaluating the models performance\n",
        "from sklearn.metrics import mean_squared_error, mean_absolute_error, r2_score\n",
        "import numpy as np\n",
        "import torch\n",
        "\n",
        "def evaluate_model(model, X_val, y_val, model_type='pytorch'):\n",
        "    if model_type == 'pytorch':\n",
        "        model.eval()\n",
        "        with torch.no_grad():\n",
        "            predictions = model(X_val).numpy()\n",
        "    else:  # For sklearn models\n",
        "        with torch.no_grad():\n",
        "            predictions = model.predict(X_val)\n",
        "\n",
        "    mse = mean_squared_error(y_val, predictions)\n",
        "    mae = mean_absolute_error(y_val, predictions)\n",
        "    r2 = r2_score(y_val, predictions)\n",
        "\n",
        "\n",
        "    return mse, mae, r2\n",
        "\n",
        "# Convert validation data to tensor for PyTorch models\n",
        "X_val_tensor = torch.tensor(X_val_combined.values, dtype=torch.float32)\n"
      ]
    },
    {
      "cell_type": "code",
      "execution_count": null,
      "metadata": {
        "colab": {
          "base_uri": "https://localhost:8080/"
        },
        "id": "K8DQNrZU3P6c",
        "outputId": "e5aad977-c40d-42b8-d44d-4339de80e899"
      },
      "outputs": [
        {
          "name": "stdout",
          "output_type": "stream",
          "text": [
            "Effectiveness Model - MSE: 0.5017, MAE: 0.5451, R-squared: 0.5844\n",
            "Ease of Use Model - MSE: 0.6153, MAE: 0.5445, R-squared: 0.4308\n"
          ]
        }
      ],
      "source": [
        "# Evaluate the deep learning models\n",
        "mse_effective, mae_effective, r2_effective = evaluate_model(model_effective, X_val_tensor, y_val_effective_tensor, model_type='pytorch')\n",
        "print(f'Effectiveness Model - MSE: {mse_effective:.4f}, MAE: {mae_effective:.4f}, R-squared: {r2_effective:.4f}')\n",
        "\n",
        "mse_ease_of_use, mae_ease_of_use, r2_ease_of_use = evaluate_model(model_ease_of_use, X_val_tensor, y_val_ease_tensor, model_type='pytorch')\n",
        "print(f'Ease of Use Model - MSE: {mse_ease_of_use:.4f}, MAE: {mae_ease_of_use:.4f}, R-squared: {r2_ease_of_use:.4f}')\n"
      ]
    },
    {
      "cell_type": "markdown",
      "metadata": {
        "id": "0ioQ2rjgTEgw"
      },
      "source": [
        "### Optimizing the features using the Grid search"
      ]
    },
    {
      "cell_type": "code",
      "execution_count": null,
      "metadata": {
        "id": "pifxLpI130-n"
      },
      "outputs": [],
      "source": [
        "import torch\n",
        "import torch.nn as nn\n",
        "import torch.optim as optim\n",
        "from torch.utils.data import DataLoader, TensorDataset\n",
        "from sklearn.model_selection import ParameterGrid\n",
        "from sklearn.metrics import mean_squared_error\n",
        "\n",
        "# Define the function to train and validate the model\n",
        "def train_and_evaluate_model(params, X_train, y_train, X_val, y_val):\n",
        "    input_size = X_train.shape[1]\n",
        "    hidden_size1 = params['hidden_size1']\n",
        "    hidden_size2 = params['hidden_size2']\n",
        "    learning_rate = params['learning_rate']\n",
        "    num_epochs = params['num_epochs']\n",
        "\n",
        "    # Define the neural network\n",
        "    model = nn.Sequential(\n",
        "        nn.Linear(input_size, hidden_size1),\n",
        "        nn.ReLU(),\n",
        "        nn.Linear(hidden_size1, hidden_size2),\n",
        "        nn.ReLU(),\n",
        "        nn.Linear(hidden_size2, 1)\n",
        "    )\n",
        "\n",
        "    criterion = nn.MSELoss()\n",
        "    optimizer = optim.Adam(model.parameters(), lr=learning_rate)\n",
        "\n",
        "    # Prepare the dataset\n",
        "    train_dataset = TensorDataset(X_train, y_train)\n",
        "    train_loader = DataLoader(train_dataset, batch_size=32, shuffle=True)\n",
        "\n",
        "    # Train the model\n",
        "    model.train()\n",
        "    for epoch in range(num_epochs):\n",
        "        for X_batch, y_batch in train_loader:\n",
        "            optimizer.zero_grad()\n",
        "            outputs = model(X_batch)\n",
        "            loss = criterion(outputs, y_batch)\n",
        "            loss.backward()\n",
        "            optimizer.step()\n",
        "\n",
        "    # Evaluate on the validation set\n",
        "    model.eval()\n",
        "    with torch.no_grad():\n",
        "        val_outputs = model(X_val)\n",
        "        val_loss = criterion(val_outputs, y_val)\n",
        "\n",
        "    return val_loss.item()\n"
      ]
    },
    {
      "cell_type": "code",
      "execution_count": null,
      "metadata": {
        "id": "DJAyK2zZR-jR"
      },
      "outputs": [],
      "source": [
        "# Define the grid of hyperparameters\n",
        "param_grid = {\n",
        "    'hidden_size1': [32, 64, 128],\n",
        "    'hidden_size2': [16, 32, 64],\n",
        "    'learning_rate': [0.001, 0.01, 0.1],\n",
        "    'num_epochs': [20, 50, 100]\n",
        "}\n"
      ]
    },
    {
      "cell_type": "code",
      "execution_count": null,
      "metadata": {
        "id": "vo3kgKIvR-ly"
      },
      "outputs": [],
      "source": [
        "# Convert datasets to tensors\n",
        "X_train_tensor = torch.tensor(X_train_combined.values, dtype=torch.float32)\n",
        "y_train_effective_tensor = torch.tensor(y_train_effective.values, dtype=torch.float32).unsqueeze(1)\n",
        "X_val_tensor = torch.tensor(X_val_combined.values, dtype=torch.float32)\n",
        "y_val_effective_tensor = torch.tensor(y_val_effective.values, dtype=torch.float32).unsqueeze(1)"
      ]
    },
    {
      "cell_type": "code",
      "execution_count": null,
      "metadata": {
        "colab": {
          "base_uri": "https://localhost:8080/"
        },
        "id": "_LRfjyN7R-o3",
        "outputId": "a34db0fe-ae25-4d89-dc11-132c7dd3cd7d"
      },
      "outputs": [
        {
          "name": "stdout",
          "output_type": "stream",
          "text": [
            "Params: {'hidden_size1': 32, 'hidden_size2': 16, 'learning_rate': 0.001, 'num_epochs': 20}, MSE: 0.3843\n",
            "Params: {'hidden_size1': 32, 'hidden_size2': 16, 'learning_rate': 0.001, 'num_epochs': 50}, MSE: 0.3705\n",
            "Params: {'hidden_size1': 32, 'hidden_size2': 16, 'learning_rate': 0.001, 'num_epochs': 100}, MSE: 0.3572\n",
            "Params: {'hidden_size1': 32, 'hidden_size2': 16, 'learning_rate': 0.01, 'num_epochs': 20}, MSE: 0.3665\n",
            "Params: {'hidden_size1': 32, 'hidden_size2': 16, 'learning_rate': 0.01, 'num_epochs': 50}, MSE: 0.3467\n",
            "Params: {'hidden_size1': 32, 'hidden_size2': 16, 'learning_rate': 0.01, 'num_epochs': 100}, MSE: 0.3421\n",
            "Params: {'hidden_size1': 32, 'hidden_size2': 16, 'learning_rate': 0.1, 'num_epochs': 20}, MSE: 0.4032\n",
            "Params: {'hidden_size1': 32, 'hidden_size2': 16, 'learning_rate': 0.1, 'num_epochs': 50}, MSE: 0.3713\n",
            "Params: {'hidden_size1': 32, 'hidden_size2': 16, 'learning_rate': 0.1, 'num_epochs': 100}, MSE: 1.2074\n",
            "Params: {'hidden_size1': 32, 'hidden_size2': 32, 'learning_rate': 0.001, 'num_epochs': 20}, MSE: 0.3890\n",
            "Params: {'hidden_size1': 32, 'hidden_size2': 32, 'learning_rate': 0.001, 'num_epochs': 50}, MSE: 0.3688\n",
            "Params: {'hidden_size1': 32, 'hidden_size2': 32, 'learning_rate': 0.001, 'num_epochs': 100}, MSE: 0.3381\n",
            "Params: {'hidden_size1': 32, 'hidden_size2': 32, 'learning_rate': 0.01, 'num_epochs': 20}, MSE: 0.3681\n",
            "Params: {'hidden_size1': 32, 'hidden_size2': 32, 'learning_rate': 0.01, 'num_epochs': 50}, MSE: 0.4071\n",
            "Params: {'hidden_size1': 32, 'hidden_size2': 32, 'learning_rate': 0.01, 'num_epochs': 100}, MSE: 0.3795\n",
            "Params: {'hidden_size1': 32, 'hidden_size2': 32, 'learning_rate': 0.1, 'num_epochs': 20}, MSE: 1.2075\n",
            "Params: {'hidden_size1': 32, 'hidden_size2': 32, 'learning_rate': 0.1, 'num_epochs': 50}, MSE: 0.3532\n",
            "Params: {'hidden_size1': 32, 'hidden_size2': 32, 'learning_rate': 0.1, 'num_epochs': 100}, MSE: 1.2076\n",
            "Params: {'hidden_size1': 32, 'hidden_size2': 64, 'learning_rate': 0.001, 'num_epochs': 20}, MSE: 0.3683\n",
            "Params: {'hidden_size1': 32, 'hidden_size2': 64, 'learning_rate': 0.001, 'num_epochs': 50}, MSE: 0.3466\n",
            "Params: {'hidden_size1': 32, 'hidden_size2': 64, 'learning_rate': 0.001, 'num_epochs': 100}, MSE: 0.3769\n",
            "Params: {'hidden_size1': 32, 'hidden_size2': 64, 'learning_rate': 0.01, 'num_epochs': 20}, MSE: 0.3551\n",
            "Params: {'hidden_size1': 32, 'hidden_size2': 64, 'learning_rate': 0.01, 'num_epochs': 50}, MSE: 0.3652\n",
            "Params: {'hidden_size1': 32, 'hidden_size2': 64, 'learning_rate': 0.01, 'num_epochs': 100}, MSE: 0.3951\n",
            "Params: {'hidden_size1': 32, 'hidden_size2': 64, 'learning_rate': 0.1, 'num_epochs': 20}, MSE: 1.3343\n",
            "Params: {'hidden_size1': 32, 'hidden_size2': 64, 'learning_rate': 0.1, 'num_epochs': 50}, MSE: 1.2324\n",
            "Params: {'hidden_size1': 32, 'hidden_size2': 64, 'learning_rate': 0.1, 'num_epochs': 100}, MSE: 1.2078\n",
            "Params: {'hidden_size1': 64, 'hidden_size2': 16, 'learning_rate': 0.001, 'num_epochs': 20}, MSE: 0.3892\n",
            "Params: {'hidden_size1': 64, 'hidden_size2': 16, 'learning_rate': 0.001, 'num_epochs': 50}, MSE: 0.3890\n",
            "Params: {'hidden_size1': 64, 'hidden_size2': 16, 'learning_rate': 0.001, 'num_epochs': 100}, MSE: 0.3709\n",
            "Params: {'hidden_size1': 64, 'hidden_size2': 16, 'learning_rate': 0.01, 'num_epochs': 20}, MSE: 0.3600\n",
            "Params: {'hidden_size1': 64, 'hidden_size2': 16, 'learning_rate': 0.01, 'num_epochs': 50}, MSE: 0.3539\n",
            "Params: {'hidden_size1': 64, 'hidden_size2': 16, 'learning_rate': 0.01, 'num_epochs': 100}, MSE: 0.5060\n",
            "Params: {'hidden_size1': 64, 'hidden_size2': 16, 'learning_rate': 0.1, 'num_epochs': 20}, MSE: 0.4675\n",
            "Params: {'hidden_size1': 64, 'hidden_size2': 16, 'learning_rate': 0.1, 'num_epochs': 50}, MSE: 0.4797\n",
            "Params: {'hidden_size1': 64, 'hidden_size2': 16, 'learning_rate': 0.1, 'num_epochs': 100}, MSE: 1.2252\n",
            "Params: {'hidden_size1': 64, 'hidden_size2': 32, 'learning_rate': 0.001, 'num_epochs': 20}, MSE: 0.4050\n",
            "Params: {'hidden_size1': 64, 'hidden_size2': 32, 'learning_rate': 0.001, 'num_epochs': 50}, MSE: 0.3440\n",
            "Params: {'hidden_size1': 64, 'hidden_size2': 32, 'learning_rate': 0.001, 'num_epochs': 100}, MSE: 0.3406\n",
            "Params: {'hidden_size1': 64, 'hidden_size2': 32, 'learning_rate': 0.01, 'num_epochs': 20}, MSE: 0.4118\n",
            "Params: {'hidden_size1': 64, 'hidden_size2': 32, 'learning_rate': 0.01, 'num_epochs': 50}, MSE: 0.6112\n",
            "Params: {'hidden_size1': 64, 'hidden_size2': 32, 'learning_rate': 0.01, 'num_epochs': 100}, MSE: 0.3368\n",
            "Params: {'hidden_size1': 64, 'hidden_size2': 32, 'learning_rate': 0.1, 'num_epochs': 20}, MSE: 1.2078\n",
            "Params: {'hidden_size1': 64, 'hidden_size2': 32, 'learning_rate': 0.1, 'num_epochs': 50}, MSE: 1.2169\n",
            "Params: {'hidden_size1': 64, 'hidden_size2': 32, 'learning_rate': 0.1, 'num_epochs': 100}, MSE: 0.6492\n",
            "Params: {'hidden_size1': 64, 'hidden_size2': 64, 'learning_rate': 0.001, 'num_epochs': 20}, MSE: 0.4684\n",
            "Params: {'hidden_size1': 64, 'hidden_size2': 64, 'learning_rate': 0.001, 'num_epochs': 50}, MSE: 0.3499\n",
            "Params: {'hidden_size1': 64, 'hidden_size2': 64, 'learning_rate': 0.001, 'num_epochs': 100}, MSE: 0.4637\n",
            "Params: {'hidden_size1': 64, 'hidden_size2': 64, 'learning_rate': 0.01, 'num_epochs': 20}, MSE: 0.4358\n",
            "Params: {'hidden_size1': 64, 'hidden_size2': 64, 'learning_rate': 0.01, 'num_epochs': 50}, MSE: 0.3525\n",
            "Params: {'hidden_size1': 64, 'hidden_size2': 64, 'learning_rate': 0.01, 'num_epochs': 100}, MSE: 0.4024\n",
            "Params: {'hidden_size1': 64, 'hidden_size2': 64, 'learning_rate': 0.1, 'num_epochs': 20}, MSE: 1.2127\n",
            "Params: {'hidden_size1': 64, 'hidden_size2': 64, 'learning_rate': 0.1, 'num_epochs': 50}, MSE: 1.2775\n",
            "Params: {'hidden_size1': 64, 'hidden_size2': 64, 'learning_rate': 0.1, 'num_epochs': 100}, MSE: 1.2071\n",
            "Params: {'hidden_size1': 128, 'hidden_size2': 16, 'learning_rate': 0.001, 'num_epochs': 20}, MSE: 0.3707\n",
            "Params: {'hidden_size1': 128, 'hidden_size2': 16, 'learning_rate': 0.001, 'num_epochs': 50}, MSE: 0.3809\n",
            "Params: {'hidden_size1': 128, 'hidden_size2': 16, 'learning_rate': 0.001, 'num_epochs': 100}, MSE: 0.3308\n",
            "Params: {'hidden_size1': 128, 'hidden_size2': 16, 'learning_rate': 0.01, 'num_epochs': 20}, MSE: 0.3681\n",
            "Params: {'hidden_size1': 128, 'hidden_size2': 16, 'learning_rate': 0.01, 'num_epochs': 50}, MSE: 0.3834\n",
            "Params: {'hidden_size1': 128, 'hidden_size2': 16, 'learning_rate': 0.01, 'num_epochs': 100}, MSE: 0.4060\n",
            "Params: {'hidden_size1': 128, 'hidden_size2': 16, 'learning_rate': 0.1, 'num_epochs': 20}, MSE: 0.3997\n",
            "Params: {'hidden_size1': 128, 'hidden_size2': 16, 'learning_rate': 0.1, 'num_epochs': 50}, MSE: 0.3634\n",
            "Params: {'hidden_size1': 128, 'hidden_size2': 16, 'learning_rate': 0.1, 'num_epochs': 100}, MSE: 1.2072\n",
            "Params: {'hidden_size1': 128, 'hidden_size2': 32, 'learning_rate': 0.001, 'num_epochs': 20}, MSE: 0.3657\n",
            "Params: {'hidden_size1': 128, 'hidden_size2': 32, 'learning_rate': 0.001, 'num_epochs': 50}, MSE: 0.3942\n",
            "Params: {'hidden_size1': 128, 'hidden_size2': 32, 'learning_rate': 0.001, 'num_epochs': 100}, MSE: 0.3325\n",
            "Params: {'hidden_size1': 128, 'hidden_size2': 32, 'learning_rate': 0.01, 'num_epochs': 20}, MSE: 0.3669\n",
            "Params: {'hidden_size1': 128, 'hidden_size2': 32, 'learning_rate': 0.01, 'num_epochs': 50}, MSE: 0.3540\n",
            "Params: {'hidden_size1': 128, 'hidden_size2': 32, 'learning_rate': 0.01, 'num_epochs': 100}, MSE: 0.3563\n",
            "Params: {'hidden_size1': 128, 'hidden_size2': 32, 'learning_rate': 0.1, 'num_epochs': 20}, MSE: 1.2070\n",
            "Params: {'hidden_size1': 128, 'hidden_size2': 32, 'learning_rate': 0.1, 'num_epochs': 50}, MSE: 1.2126\n",
            "Params: {'hidden_size1': 128, 'hidden_size2': 32, 'learning_rate': 0.1, 'num_epochs': 100}, MSE: 0.3549\n",
            "Params: {'hidden_size1': 128, 'hidden_size2': 64, 'learning_rate': 0.001, 'num_epochs': 20}, MSE: 0.4346\n",
            "Params: {'hidden_size1': 128, 'hidden_size2': 64, 'learning_rate': 0.001, 'num_epochs': 50}, MSE: 0.3453\n",
            "Params: {'hidden_size1': 128, 'hidden_size2': 64, 'learning_rate': 0.001, 'num_epochs': 100}, MSE: 0.4165\n",
            "Params: {'hidden_size1': 128, 'hidden_size2': 64, 'learning_rate': 0.01, 'num_epochs': 20}, MSE: 0.4469\n",
            "Params: {'hidden_size1': 128, 'hidden_size2': 64, 'learning_rate': 0.01, 'num_epochs': 50}, MSE: 0.3802\n",
            "Params: {'hidden_size1': 128, 'hidden_size2': 64, 'learning_rate': 0.01, 'num_epochs': 100}, MSE: 0.4240\n",
            "Params: {'hidden_size1': 128, 'hidden_size2': 64, 'learning_rate': 0.1, 'num_epochs': 20}, MSE: 0.3759\n",
            "Params: {'hidden_size1': 128, 'hidden_size2': 64, 'learning_rate': 0.1, 'num_epochs': 50}, MSE: 0.3432\n",
            "Params: {'hidden_size1': 128, 'hidden_size2': 64, 'learning_rate': 0.1, 'num_epochs': 100}, MSE: 1.2341\n",
            "Best Params: {'hidden_size1': 128, 'hidden_size2': 16, 'learning_rate': 0.001, 'num_epochs': 100}, Best MSE: 0.3308\n"
          ]
        }
      ],
      "source": [
        "# Perform grid search\n",
        "best_params = None\n",
        "best_mse = float('inf')\n",
        "\n",
        "for params in ParameterGrid(param_grid):\n",
        "    mse = train_and_evaluate_model(params, X_train_tensor, y_train_effective_tensor, X_val_tensor, y_val_effective_tensor)\n",
        "    print(f\"Params: {params}, MSE: {mse:.4f}\")\n",
        "\n",
        "    if mse < best_mse:\n",
        "        best_mse = mse\n",
        "        best_params = params\n",
        "\n",
        "print(f\"Best Params: {best_params}, Best MSE: {best_mse:.4f}\")\n"
      ]
    },
    {
      "cell_type": "code",
      "execution_count": null,
      "metadata": {
        "id": "SiRw2HHvXL2J"
      },
      "outputs": [],
      "source": []
    },
    {
      "cell_type": "markdown",
      "source": [
        "Re-training model based on grid search results"
      ],
      "metadata": {
        "id": "CTo1uv2dgcTL"
      }
    },
    {
      "cell_type": "code",
      "execution_count": null,
      "metadata": {
        "colab": {
          "base_uri": "https://localhost:8080/"
        },
        "id": "TdPuVwvyYdJX",
        "outputId": "57d70032-4b2e-4970-dfb2-52bb4700120c"
      },
      "outputs": [
        {
          "name": "stdout",
          "output_type": "stream",
          "text": [
            "Training model for effectiveness...\n",
            "Epoch [1/100], Loss: 1.0210, Val Loss: 1.0991\n",
            "Epoch [2/100], Loss: 1.2969, Val Loss: 1.2265\n",
            "Epoch [3/100], Loss: 0.8431, Val Loss: 0.9185\n",
            "Epoch [4/100], Loss: 0.7607, Val Loss: 0.8404\n",
            "Epoch [5/100], Loss: 0.7008, Val Loss: 0.8159\n",
            "Epoch [6/100], Loss: 0.4992, Val Loss: 0.6382\n",
            "Epoch [7/100], Loss: 0.3340, Val Loss: 0.5297\n",
            "Epoch [8/100], Loss: 0.3204, Val Loss: 0.4736\n",
            "Epoch [9/100], Loss: 0.2539, Val Loss: 0.4257\n",
            "Epoch [10/100], Loss: 0.2116, Val Loss: 0.3967\n",
            "Epoch [11/100], Loss: 0.1708, Val Loss: 0.3786\n",
            "Epoch [12/100], Loss: 0.4143, Val Loss: 0.5561\n",
            "Epoch [13/100], Loss: 0.1821, Val Loss: 0.3969\n",
            "Epoch [14/100], Loss: 0.2200, Val Loss: 0.3950\n",
            "Epoch [15/100], Loss: 0.1814, Val Loss: 0.3738\n",
            "Epoch [16/100], Loss: 0.1610, Val Loss: 0.3678\n",
            "Epoch [17/100], Loss: 0.1610, Val Loss: 0.3712\n",
            "Epoch [18/100], Loss: 0.2799, Val Loss: 0.4326\n",
            "Epoch [19/100], Loss: 0.1680, Val Loss: 0.3660\n",
            "Epoch [20/100], Loss: 0.3208, Val Loss: 0.4611\n",
            "Epoch [21/100], Loss: 0.1538, Val Loss: 0.3847\n",
            "Epoch [22/100], Loss: 0.1822, Val Loss: 0.3693\n",
            "Epoch [23/100], Loss: 0.1846, Val Loss: 0.3684\n",
            "Epoch [24/100], Loss: 0.1592, Val Loss: 0.3694\n",
            "Epoch [25/100], Loss: 0.1623, Val Loss: 0.3765\n",
            "Epoch [26/100], Loss: 0.1975, Val Loss: 0.3736\n",
            "Epoch [27/100], Loss: 0.3656, Val Loss: 0.4786\n",
            "Epoch [28/100], Loss: 0.3837, Val Loss: 0.4871\n",
            "Epoch [29/100], Loss: 0.2598, Val Loss: 0.4008\n",
            "Epoch [30/100], Loss: 0.1736, Val Loss: 0.3876\n",
            "Epoch [31/100], Loss: 0.1636, Val Loss: 0.3550\n",
            "Epoch [32/100], Loss: 0.1968, Val Loss: 0.3676\n",
            "Epoch [33/100], Loss: 0.1752, Val Loss: 0.3855\n",
            "Epoch [34/100], Loss: 0.3011, Val Loss: 0.4326\n",
            "Epoch [35/100], Loss: 0.1685, Val Loss: 0.3886\n",
            "Epoch [36/100], Loss: 0.1844, Val Loss: 0.3626\n",
            "Epoch [37/100], Loss: 0.1561, Val Loss: 0.3604\n",
            "Epoch [38/100], Loss: 0.2189, Val Loss: 0.3757\n",
            "Epoch [39/100], Loss: 0.2667, Val Loss: 0.4058\n",
            "Epoch [40/100], Loss: 0.2228, Val Loss: 0.3787\n",
            "Epoch [41/100], Loss: 0.1789, Val Loss: 0.3520\n",
            "Epoch [42/100], Loss: 0.2440, Val Loss: 0.3915\n",
            "Epoch [43/100], Loss: 0.1761, Val Loss: 0.3574\n",
            "Epoch [44/100], Loss: 0.2148, Val Loss: 0.4626\n",
            "Epoch [45/100], Loss: 0.3382, Val Loss: 0.4587\n",
            "Epoch [46/100], Loss: 0.1932, Val Loss: 0.3660\n",
            "Epoch [47/100], Loss: 0.1561, Val Loss: 0.3584\n",
            "Epoch [48/100], Loss: 0.2028, Val Loss: 0.3657\n",
            "Epoch [49/100], Loss: 0.1735, Val Loss: 0.3518\n",
            "Epoch [50/100], Loss: 0.1653, Val Loss: 0.3499\n",
            "Epoch [51/100], Loss: 0.1626, Val Loss: 0.3577\n",
            "Epoch [52/100], Loss: 0.2372, Val Loss: 0.3842\n",
            "Epoch [53/100], Loss: 0.1937, Val Loss: 0.3560\n",
            "Epoch [54/100], Loss: 0.1669, Val Loss: 0.3585\n",
            "Epoch [55/100], Loss: 0.1659, Val Loss: 0.3527\n",
            "Epoch [56/100], Loss: 0.2411, Val Loss: 0.4831\n",
            "Epoch [57/100], Loss: 0.1901, Val Loss: 0.4132\n",
            "Epoch [58/100], Loss: 0.2004, Val Loss: 0.3631\n",
            "Epoch [59/100], Loss: 0.2076, Val Loss: 0.3611\n",
            "Epoch [60/100], Loss: 0.1674, Val Loss: 0.3444\n",
            "Epoch [61/100], Loss: 0.1648, Val Loss: 0.3628\n",
            "Epoch [62/100], Loss: 0.1995, Val Loss: 0.3598\n",
            "Epoch [63/100], Loss: 0.2327, Val Loss: 0.3774\n",
            "Epoch [64/100], Loss: 0.1585, Val Loss: 0.3467\n",
            "Epoch [65/100], Loss: 0.1693, Val Loss: 0.3439\n",
            "Epoch [66/100], Loss: 0.2495, Val Loss: 0.3962\n",
            "Epoch [67/100], Loss: 0.1559, Val Loss: 0.3607\n",
            "Epoch [68/100], Loss: 0.2225, Val Loss: 0.3704\n",
            "Epoch [69/100], Loss: 0.1657, Val Loss: 0.3501\n",
            "Epoch [70/100], Loss: 0.1709, Val Loss: 0.3626\n",
            "Epoch [71/100], Loss: 0.2595, Val Loss: 0.3932\n",
            "Epoch [72/100], Loss: 0.1787, Val Loss: 0.3647\n",
            "Epoch [73/100], Loss: 0.1578, Val Loss: 0.3474\n",
            "Epoch [74/100], Loss: 0.1761, Val Loss: 0.3456\n",
            "Epoch [75/100], Loss: 0.1708, Val Loss: 0.3513\n",
            "Epoch [76/100], Loss: 0.2312, Val Loss: 0.3731\n",
            "Epoch [77/100], Loss: 0.1570, Val Loss: 0.3387\n",
            "Epoch [78/100], Loss: 0.1982, Val Loss: 0.3547\n",
            "Epoch [79/100], Loss: 0.1723, Val Loss: 0.3412\n",
            "Epoch [80/100], Loss: 0.1776, Val Loss: 0.3478\n",
            "Epoch [81/100], Loss: 0.1639, Val Loss: 0.3433\n",
            "Epoch [82/100], Loss: 0.1797, Val Loss: 0.3427\n",
            "Epoch [83/100], Loss: 0.1621, Val Loss: 0.3368\n",
            "Epoch [84/100], Loss: 0.1707, Val Loss: 0.3397\n",
            "Epoch [85/100], Loss: 0.3295, Val Loss: 0.4442\n",
            "Epoch [86/100], Loss: 0.2088, Val Loss: 0.3556\n",
            "Epoch [87/100], Loss: 0.1787, Val Loss: 0.3422\n",
            "Epoch [88/100], Loss: 0.1826, Val Loss: 0.3429\n",
            "Epoch [89/100], Loss: 0.2539, Val Loss: 0.3827\n",
            "Epoch [90/100], Loss: 0.2688, Val Loss: 0.4002\n",
            "Epoch [91/100], Loss: 0.3024, Val Loss: 0.4121\n",
            "Epoch [92/100], Loss: 0.1665, Val Loss: 0.3440\n",
            "Epoch [93/100], Loss: 0.1779, Val Loss: 0.3404\n",
            "Epoch [94/100], Loss: 0.2199, Val Loss: 0.3659\n",
            "Epoch [95/100], Loss: 0.2795, Val Loss: 0.3915\n",
            "Epoch [96/100], Loss: 0.1890, Val Loss: 0.3866\n",
            "Epoch [97/100], Loss: 0.1912, Val Loss: 0.3595\n",
            "Epoch [98/100], Loss: 0.1725, Val Loss: 0.3484\n",
            "Epoch [99/100], Loss: 0.2071, Val Loss: 0.3508\n",
            "Epoch [100/100], Loss: 0.2024, Val Loss: 0.3847\n",
            "Training model for ease of use...\n",
            "Epoch [1/100], Loss: 1.6076, Val Loss: 1.1320\n",
            "Epoch [2/100], Loss: 1.4477, Val Loss: 1.0394\n",
            "Epoch [3/100], Loss: 1.3226, Val Loss: 0.9181\n",
            "Epoch [4/100], Loss: 1.3050, Val Loss: 0.8800\n",
            "Epoch [5/100], Loss: 1.3980, Val Loss: 0.9879\n",
            "Epoch [6/100], Loss: 1.2647, Val Loss: 0.8541\n",
            "Epoch [7/100], Loss: 1.2155, Val Loss: 0.7991\n",
            "Epoch [8/100], Loss: 1.1230, Val Loss: 0.7464\n",
            "Epoch [9/100], Loss: 1.0519, Val Loss: 0.7160\n",
            "Epoch [10/100], Loss: 1.2034, Val Loss: 0.8180\n",
            "Epoch [11/100], Loss: 1.2148, Val Loss: 0.9127\n",
            "Epoch [12/100], Loss: 0.9738, Val Loss: 0.6797\n",
            "Epoch [13/100], Loss: 1.0117, Val Loss: 0.7155\n",
            "Epoch [14/100], Loss: 0.9672, Val Loss: 0.6661\n",
            "Epoch [15/100], Loss: 1.0940, Val Loss: 0.7438\n",
            "Epoch [16/100], Loss: 1.1179, Val Loss: 0.8908\n",
            "Epoch [17/100], Loss: 0.8957, Val Loss: 0.6434\n",
            "Epoch [18/100], Loss: 0.9670, Val Loss: 0.6657\n",
            "Epoch [19/100], Loss: 0.8912, Val Loss: 0.6398\n",
            "Epoch [20/100], Loss: 0.8787, Val Loss: 0.6807\n",
            "Epoch [21/100], Loss: 1.0037, Val Loss: 0.8400\n",
            "Epoch [22/100], Loss: 0.9993, Val Loss: 0.7075\n",
            "Epoch [23/100], Loss: 0.8875, Val Loss: 0.6440\n",
            "Epoch [24/100], Loss: 0.9490, Val Loss: 0.6825\n",
            "Epoch [25/100], Loss: 0.9115, Val Loss: 0.6388\n",
            "Epoch [26/100], Loss: 0.8618, Val Loss: 0.6529\n",
            "Epoch [27/100], Loss: 0.8854, Val Loss: 0.6431\n",
            "Epoch [28/100], Loss: 0.9441, Val Loss: 0.6579\n",
            "Epoch [29/100], Loss: 0.9589, Val Loss: 0.6549\n",
            "Epoch [30/100], Loss: 0.9641, Val Loss: 0.6714\n",
            "Epoch [31/100], Loss: 0.8638, Val Loss: 0.6445\n",
            "Epoch [32/100], Loss: 0.9227, Val Loss: 0.6350\n",
            "Epoch [33/100], Loss: 0.9209, Val Loss: 0.6356\n",
            "Epoch [34/100], Loss: 0.8529, Val Loss: 0.6291\n",
            "Epoch [35/100], Loss: 0.8613, Val Loss: 0.6232\n",
            "Epoch [36/100], Loss: 0.9065, Val Loss: 0.6508\n",
            "Epoch [37/100], Loss: 0.8822, Val Loss: 0.6263\n",
            "Epoch [38/100], Loss: 0.8732, Val Loss: 0.6245\n",
            "Epoch [39/100], Loss: 1.0081, Val Loss: 0.6795\n",
            "Epoch [40/100], Loss: 0.8606, Val Loss: 0.6203\n",
            "Epoch [41/100], Loss: 0.8854, Val Loss: 0.6344\n",
            "Epoch [42/100], Loss: 0.8953, Val Loss: 0.6275\n",
            "Epoch [43/100], Loss: 0.9841, Val Loss: 0.8384\n",
            "Epoch [44/100], Loss: 0.8778, Val Loss: 0.6185\n",
            "Epoch [45/100], Loss: 0.8543, Val Loss: 0.6266\n",
            "Epoch [46/100], Loss: 0.8911, Val Loss: 0.6208\n",
            "Epoch [47/100], Loss: 1.1279, Val Loss: 0.9236\n",
            "Epoch [48/100], Loss: 0.8778, Val Loss: 0.6555\n",
            "Epoch [49/100], Loss: 0.8567, Val Loss: 0.6299\n",
            "Epoch [50/100], Loss: 0.9964, Val Loss: 0.7470\n",
            "Epoch [51/100], Loss: 0.9481, Val Loss: 0.7064\n",
            "Epoch [52/100], Loss: 0.8675, Val Loss: 0.6170\n",
            "Epoch [53/100], Loss: 0.9329, Val Loss: 0.6468\n",
            "Epoch [54/100], Loss: 0.8654, Val Loss: 0.6306\n",
            "Epoch [55/100], Loss: 0.8558, Val Loss: 0.6302\n",
            "Epoch [56/100], Loss: 0.8903, Val Loss: 0.6348\n",
            "Epoch [57/100], Loss: 1.1124, Val Loss: 0.7526\n",
            "Epoch [58/100], Loss: 0.8960, Val Loss: 0.6180\n",
            "Epoch [59/100], Loss: 0.8938, Val Loss: 0.6328\n",
            "Epoch [60/100], Loss: 0.9093, Val Loss: 0.6133\n",
            "Epoch [61/100], Loss: 0.9119, Val Loss: 0.6179\n",
            "Epoch [62/100], Loss: 0.8911, Val Loss: 0.6144\n",
            "Epoch [63/100], Loss: 0.9739, Val Loss: 0.6309\n",
            "Epoch [64/100], Loss: 0.9826, Val Loss: 0.7195\n",
            "Epoch [65/100], Loss: 0.9088, Val Loss: 0.6508\n",
            "Epoch [66/100], Loss: 0.8833, Val Loss: 0.6017\n",
            "Epoch [67/100], Loss: 1.0688, Val Loss: 0.6965\n",
            "Epoch [68/100], Loss: 0.9347, Val Loss: 0.6834\n",
            "Epoch [69/100], Loss: 0.9703, Val Loss: 0.6354\n",
            "Epoch [70/100], Loss: 0.9010, Val Loss: 0.6430\n",
            "Epoch [71/100], Loss: 1.0251, Val Loss: 0.7668\n",
            "Epoch [72/100], Loss: 0.9208, Val Loss: 0.6229\n",
            "Epoch [73/100], Loss: 0.8744, Val Loss: 0.6100\n",
            "Epoch [74/100], Loss: 0.9280, Val Loss: 0.6322\n",
            "Epoch [75/100], Loss: 0.9312, Val Loss: 0.6426\n",
            "Epoch [76/100], Loss: 0.9431, Val Loss: 0.6998\n",
            "Epoch [77/100], Loss: 0.9659, Val Loss: 0.7209\n",
            "Epoch [78/100], Loss: 0.9504, Val Loss: 0.6209\n",
            "Epoch [79/100], Loss: 0.9945, Val Loss: 0.6358\n",
            "Epoch [80/100], Loss: 0.9864, Val Loss: 0.6420\n",
            "Epoch [81/100], Loss: 0.9130, Val Loss: 0.6312\n",
            "Epoch [82/100], Loss: 0.9535, Val Loss: 0.6166\n",
            "Epoch [83/100], Loss: 1.0835, Val Loss: 0.8204\n",
            "Epoch [84/100], Loss: 0.9930, Val Loss: 0.6289\n",
            "Epoch [85/100], Loss: 0.9139, Val Loss: 0.6482\n",
            "Epoch [86/100], Loss: 0.9379, Val Loss: 0.6084\n",
            "Epoch [87/100], Loss: 0.9154, Val Loss: 0.6002\n",
            "Epoch [88/100], Loss: 0.9391, Val Loss: 0.6178\n",
            "Epoch [89/100], Loss: 0.9785, Val Loss: 0.6231\n",
            "Epoch [90/100], Loss: 1.0337, Val Loss: 0.6578\n",
            "Epoch [91/100], Loss: 0.9375, Val Loss: 0.6444\n",
            "Epoch [92/100], Loss: 1.0868, Val Loss: 0.6823\n",
            "Epoch [93/100], Loss: 0.9454, Val Loss: 0.6650\n",
            "Epoch [94/100], Loss: 0.9238, Val Loss: 0.6041\n",
            "Epoch [95/100], Loss: 0.9379, Val Loss: 0.6352\n",
            "Epoch [96/100], Loss: 0.9600, Val Loss: 0.6338\n",
            "Epoch [97/100], Loss: 0.9173, Val Loss: 0.6154\n",
            "Epoch [98/100], Loss: 0.9392, Val Loss: 0.6107\n",
            "Epoch [99/100], Loss: 0.9617, Val Loss: 0.6230\n",
            "Epoch [100/100], Loss: 0.9257, Val Loss: 0.6146\n"
          ]
        }
      ],
      "source": [
        "# updating model parameters to match best parameters per the grid search\n",
        "import torch\n",
        "import torch.nn as nn\n",
        "import torch.optim as optim\n",
        "from torch.utils.data import DataLoader, TensorDataset\n",
        "\n",
        "# Updated model architecture based on best parameters\n",
        "input_size = X_train_combined.shape[1]\n",
        "hidden_size1 = 128\n",
        "hidden_size2 = 16\n",
        "\n",
        "# Define the models directly\n",
        "model_effective = nn.Sequential(\n",
        "    nn.Linear(input_size, hidden_size1),\n",
        "    nn.ReLU(),\n",
        "    nn.Linear(hidden_size1, hidden_size2),\n",
        "    nn.ReLU(),\n",
        "    nn.Linear(hidden_size2, 1)\n",
        ")\n",
        "\n",
        "model_ease_of_use = nn.Sequential(\n",
        "    nn.Linear(input_size, hidden_size1),\n",
        "    nn.ReLU(),\n",
        "    nn.Linear(hidden_size1, hidden_size2),\n",
        "    nn.ReLU(),\n",
        "    nn.Linear(hidden_size2, 1)\n",
        ")\n",
        "\n",
        "# Loss function and optimizer\n",
        "criterion = nn.MSELoss()\n",
        "learning_rate = 0.001\n",
        "optimizer_effective = optim.Adam(model_effective.parameters(), lr=learning_rate)\n",
        "optimizer_ease_of_use = optim.Adam(model_ease_of_use.parameters(), lr=learning_rate)\n",
        "\n",
        "# Convert training and validation data to tensors\n",
        "X_train_tensor = torch.tensor(X_train_combined.values, dtype=torch.float32)\n",
        "y_train_effective_tensor = torch.tensor(y_train_effective.values, dtype=torch.float32).view(-1, 1)\n",
        "y_train_ease_tensor = torch.tensor(y_train_ease.values, dtype=torch.float32).view(-1, 1)\n",
        "\n",
        "X_val_tensor = torch.tensor(X_val_combined.values, dtype=torch.float32)\n",
        "y_val_effective_tensor = torch.tensor(y_val_effective.values, dtype=torch.float32).view(-1, 1)\n",
        "y_val_ease_tensor = torch.tensor(y_val_ease.values, dtype=torch.float32).view(-1, 1)\n",
        "\n",
        "# Create DataLoader for training and validation sets\n",
        "train_dataset = TensorDataset(X_train_tensor, y_train_effective_tensor, y_train_ease_tensor)\n",
        "val_dataset = TensorDataset(X_val_tensor, y_val_effective_tensor, y_val_ease_tensor)\n",
        "\n",
        "train_loader = DataLoader(train_dataset, batch_size=32, shuffle=True)\n",
        "val_loader = DataLoader(val_dataset, batch_size=32, shuffle=False)\n",
        "\n",
        "# Number of epochs\n",
        "num_epochs = 100\n",
        "\n",
        "def train_model(model, optimizer, train_loader, val_loader, criterion, target_index):\n",
        "    model.train()\n",
        "    for epoch in range(num_epochs):\n",
        "        for X_batch, y_batch_effective, y_batch_ease in train_loader:\n",
        "            y_batch = y_batch_effective if target_index == 0 else y_batch_ease\n",
        "            optimizer.zero_grad()\n",
        "            outputs = model(X_batch)\n",
        "            loss = criterion(outputs, y_batch)\n",
        "            loss.backward()\n",
        "            optimizer.step()\n",
        "\n",
        "        # Validation\n",
        "        model.eval()\n",
        "        val_loss = 0\n",
        "        with torch.no_grad():\n",
        "            for X_batch, y_batch_effective, y_batch_ease in val_loader:\n",
        "                y_batch = y_batch_effective if target_index == 0 else y_batch_ease\n",
        "                outputs = model(X_batch)\n",
        "                loss = criterion(outputs, y_batch)\n",
        "                val_loss += loss.item()\n",
        "\n",
        "        print(f'Epoch [{epoch+1}/{num_epochs}], Loss: {loss.item():.4f}, Val Loss: {val_loss/len(val_loader):.4f}')\n",
        "        model.train()\n",
        "\n",
        "# Train the models\n",
        "print(\"Training model for effectiveness...\")\n",
        "train_model(model_effective, optimizer_effective, train_loader, val_loader, criterion, target_index=0)\n",
        "\n",
        "print(\"Training model for ease of use...\")\n",
        "train_model(model_ease_of_use, optimizer_ease_of_use, train_loader, val_loader, criterion, target_index=1)"
      ]
    },
    {
      "cell_type": "code",
      "execution_count": null,
      "metadata": {
        "colab": {
          "base_uri": "https://localhost:8080/"
        },
        "id": "lH7dL1cbY5X-",
        "outputId": "4ed9f928-9950-46c4-ea2a-7c6831ec334f"
      },
      "outputs": [
        {
          "name": "stdout",
          "output_type": "stream",
          "text": [
            "Effectiveness Model - MSE: 0.3853, MAE: 0.4560, R-squared: 0.6808\n",
            "Ease of Use Model - MSE: 0.6137, MAE: 0.5444, R-squared: 0.4322\n"
          ]
        }
      ],
      "source": [
        "# Evaluate the deep learning models\n",
        "mse_effective, mae_effective, r2_effective = evaluate_model(model_effective, X_val_tensor, y_val_effective_tensor, model_type='pytorch')\n",
        "print(f'Effectiveness Model - MSE: {mse_effective:.4f}, MAE: {mae_effective:.4f}, R-squared: {r2_effective:.4f}')\n",
        "\n",
        "mse_ease_of_use, mae_ease_of_use, r2_ease_of_use = evaluate_model(model_ease_of_use, X_val_tensor, y_val_ease_tensor, model_type='pytorch')\n",
        "print(f'Ease of Use Model - MSE: {mse_ease_of_use:.4f}, MAE: {mae_ease_of_use:.4f}, R-squared: {r2_ease_of_use:.4f}')\n"
      ]
    },
    {
      "cell_type": "markdown",
      "source": [
        "### Saving the models"
      ],
      "metadata": {
        "id": "5ap7NWDxgkJ7"
      }
    },
    {
      "cell_type": "code",
      "execution_count": null,
      "metadata": {
        "colab": {
          "base_uri": "https://localhost:8080/"
        },
        "id": "13qk0PAAR-sL",
        "outputId": "d1c1b4a0-2685-4f27-aea4-bfd1b9e094d2"
      },
      "outputs": [
        {
          "name": "stdout",
          "output_type": "stream",
          "text": [
            "Model for effectiveness saved to /content/drive/MyDrive/Shared Folder/model_effective.joblib\n",
            "Model for ease of use saved to /content/drive/MyDrive/Shared Folder/model_ease_of_use.joblib\n"
          ]
        }
      ],
      "source": [
        "import joblib\n",
        "\n",
        "# Define the paths to save the models\n",
        "model_effective_path = '/content/drive/MyDrive/Shared Folder/model_effective.joblib'\n",
        "model_ease_of_use_path = '/content/drive/MyDrive/Shared Folder/model_ease_of_use.joblib'\n",
        "\n",
        "# Save the models\n",
        "joblib.dump(model_effective, model_effective_path)\n",
        "joblib.dump(model_ease_of_use, model_ease_of_use_path)\n",
        "\n",
        "print(f'Model for effectiveness saved to {model_effective_path}')\n",
        "print(f'Model for ease of use saved to {model_ease_of_use_path}')"
      ]
    },
    {
      "cell_type": "markdown",
      "metadata": {
        "id": "ASUr6Ev5121p"
      },
      "source": [
        "### Training Ensemble models(XGBoost and Random Forest Regressor)"
      ]
    },
    {
      "cell_type": "code",
      "execution_count": null,
      "metadata": {
        "id": "o4huCrvi10A6"
      },
      "outputs": [],
      "source": [
        "#Importing relevant libraries\n",
        "from sklearn.ensemble import RandomForestRegressor\n",
        "from xgboost import XGBRegressor\n",
        "from sklearn.metrics import mean_squared_error, r2_score, mean_absolute_error\n",
        "from sklearn.model_selection import GridSearchCV\n",
        "\n",
        "# Initializing the models\n",
        "#Using a Random Forest Regressor\n",
        "rf_model_effective = RandomForestRegressor(random_state=42)\n",
        "rf_model_ease_of_use = RandomForestRegressor(random_state=42)\n",
        "\n",
        "#Using an XGBoost Regressor\n",
        "xgb_model_effective = XGBRegressor(objective='reg:squarederror', random_state=42)\n",
        "xgb_model_ease_of_use = XGBRegressor(objective='reg:squarederror', random_state=42)\n"
      ]
    },
    {
      "cell_type": "code",
      "execution_count": null,
      "metadata": {
        "id": "W-R8VPsE10PZ"
      },
      "outputs": [],
      "source": [
        "# Define parameter grid for Random Forest\n",
        "rf_param_grid = {\n",
        "    'n_estimators': [50, 100, 200],\n",
        "    'max_depth': [None, 10, 20, 30],\n",
        "    'min_samples_split': [2, 5, 10],\n",
        "    'min_samples_leaf': [1, 2, 4]\n",
        "}\n",
        "\n",
        "# Define parameter grid for XGBoost\n",
        "xgb_param_grid = {\n",
        "    'n_estimators': [50, 100, 200],\n",
        "    'max_depth': [3, 6, 9],\n",
        "    'learning_rate': [0.01, 0.1, 0.2],\n",
        "    'subsample': [0.8, 1.0]\n",
        "}"
      ]
    },
    {
      "cell_type": "code",
      "execution_count": null,
      "metadata": {
        "id": "9m8VNkcc5rW0"
      },
      "outputs": [],
      "source": [
        "# Perform GridSearchCV for Random Forest\n",
        "rf_grid_search_effective = GridSearchCV(estimator=rf_model_effective, param_grid=rf_param_grid,\n",
        "                                        cv=3, n_jobs=-1, scoring='neg_mean_squared_error')\n",
        "X_train_combined.columns = X_train_combined.columns.astype(str)\n",
        "rf_grid_search_effective.fit(X_train_combined, y_train_effective)\n",
        "best_rf_model_effective = rf_grid_search_effective.best_estimator_\n",
        "\n",
        "rf_grid_search_ease_of_use = GridSearchCV(estimator=rf_model_ease_of_use, param_grid=rf_param_grid,\n",
        "                                          cv=3, n_jobs=-1, scoring='neg_mean_squared_error')\n",
        "rf_grid_search_ease_of_use.fit(X_train_combined, y_train_ease)\n",
        "best_rf_model_ease_of_use = rf_grid_search_ease_of_use.best_estimator_"
      ]
    },
    {
      "cell_type": "code",
      "execution_count": null,
      "metadata": {
        "id": "LAGqAYhU5xi4"
      },
      "outputs": [],
      "source": [
        "# Perform GridSearchCV for XGBoost\n",
        "xgb_grid_search_effective = GridSearchCV(estimator=xgb_model_effective, param_grid=xgb_param_grid,\n",
        "                                         cv=3, n_jobs=-1, scoring='neg_mean_squared_error')\n",
        "xgb_grid_search_effective.fit(X_train_combined, y_train_effective)\n",
        "best_xgb_model_effective = xgb_grid_search_effective.best_estimator_\n",
        "\n",
        "xgb_grid_search_ease_of_use = GridSearchCV(estimator=xgb_model_ease_of_use, param_grid=xgb_param_grid,\n",
        "                                           cv=3, n_jobs=-1, scoring='neg_mean_squared_error')\n",
        "xgb_grid_search_ease_of_use.fit(X_train_combined, y_train_ease)\n",
        "best_xgb_model_ease_of_use = xgb_grid_search_ease_of_use.best_estimator_"
      ]
    },
    {
      "cell_type": "markdown",
      "source": [
        "### Evaluating performance of the ensemble models"
      ],
      "metadata": {
        "id": "-CVn849Igt67"
      }
    },
    {
      "cell_type": "code",
      "execution_count": null,
      "metadata": {
        "colab": {
          "base_uri": "https://localhost:8080/"
        },
        "id": "PJ_a0hyL5kka",
        "outputId": "f6ba168b-943c-4444-f751-37b50af940f2"
      },
      "outputs": [
        {
          "name": "stdout",
          "output_type": "stream",
          "text": [
            "Random Forest - Effectiveness:\n",
            "MSE: 0.3191\n",
            "MAE: 0.3702\n",
            "R2 Score: 0.7356\n",
            "\n",
            "Random Forest - Ease of Use:\n",
            "MSE: 0.5466\n",
            "MAE: 0.5132\n",
            "R2 Score: 0.4943\n"
          ]
        }
      ],
      "source": [
        "#Evaluating the performance of the ensemble models\n",
        "from sklearn.metrics import mean_squared_error, mean_absolute_error, r2_score\n",
        "import numpy as np\n",
        "import torch\n",
        "\n",
        "def evaluate_model(model, X_val, y_val, model_type='pytorch'):\n",
        "    if model_type == 'pytorch':\n",
        "        model.eval()\n",
        "        with torch.no_grad():\n",
        "            predictions = model(X_val).numpy()\n",
        "    else:  # For sklearn models\n",
        "        predictions = model.predict(X_val)\n",
        "\n",
        "    mse = mean_squared_error(y_val, predictions)\n",
        "    mae = mean_absolute_error(y_val, predictions)\n",
        "    r2 = r2_score(y_val, predictions)\n",
        "\n",
        "    return mse, mae, r2\n",
        "\n",
        "X_val_combined.columns = X_val_combined.columns.astype(str)\n",
        "# Evaluate Random Forest model for effectiveness\n",
        "rf_mse_effective, rf_mae_effective, rf_r2_effective = evaluate_model(\n",
        "    best_rf_model_effective, X_val_combined, y_val_effective, model_type='sklearn'\n",
        ")\n",
        "\n",
        "# Evaluate Random Forest model for ease of use\n",
        "rf_mse_ease, rf_mae_ease, rf_r2_ease = evaluate_model(\n",
        "    best_rf_model_ease_of_use, X_val_combined, y_val_ease, model_type='sklearn'\n",
        ")\n",
        "\n",
        "# Print results\n",
        "print(\"Random Forest - Effectiveness:\")\n",
        "print(f\"MSE: {rf_mse_effective:.4f}\")\n",
        "print(f\"MAE: {rf_mae_effective:.4f}\")\n",
        "print(f\"R2 Score: {rf_r2_effective:.4f}\")\n",
        "print()\n",
        "\n",
        "print(\"Random Forest - Ease of Use:\")\n",
        "print(f\"MSE: {rf_mse_ease:.4f}\")\n",
        "print(f\"MAE: {rf_mae_ease:.4f}\")\n",
        "print(f\"R2 Score: {rf_r2_ease:.4f}\")"
      ]
    },
    {
      "cell_type": "markdown",
      "source": [
        "### Saving the models"
      ],
      "metadata": {
        "id": "ySZ1lKRmg0Bt"
      }
    },
    {
      "cell_type": "code",
      "execution_count": null,
      "metadata": {
        "colab": {
          "base_uri": "https://localhost:8080/"
        },
        "id": "cgIpdTO7SwfO",
        "outputId": "5b2a9572-8472-4cd4-f3dc-b68b60853db8"
      },
      "outputs": [
        {
          "name": "stdout",
          "output_type": "stream",
          "text": [
            "Random Forest model for effectiveness saved to /content/drive/MyDrive/Shared Folder/rf_model_effective.joblib\n",
            "Random Forest model for ease of use saved to /content/drive/MyDrive/Shared Folder/rf_model_ease_of_use.joblib\n"
          ]
        }
      ],
      "source": [
        "#Saving the random forest model\n",
        "import joblib\n",
        "\n",
        "# Define the paths to save the Random Forest models\n",
        "rf_model_effective_path = '/content/drive/MyDrive/Shared Folder/rf_model_effective.joblib'\n",
        "rf_model_ease_of_use_path = '/content/drive/MyDrive/Shared Folder/rf_model_ease_of_use.joblib'\n",
        "\n",
        "# Save the Random Forest models\n",
        "joblib.dump(best_rf_model_effective, rf_model_effective_path)\n",
        "joblib.dump(best_rf_model_ease_of_use, rf_model_ease_of_use_path)\n",
        "\n",
        "print(f'Random Forest model for effectiveness saved to {rf_model_effective_path}')\n",
        "print(f'Random Forest model for ease of use saved to {rf_model_ease_of_use_path}')"
      ]
    },
    {
      "cell_type": "markdown",
      "metadata": {
        "id": "P2z6whWooT__"
      },
      "source": [
        "### Training another ensemble regressor with one dependent feature(concat of ease of use and effectiveness)"
      ]
    },
    {
      "cell_type": "code",
      "execution_count": null,
      "metadata": {
        "id": "7W33ikjOn4eu"
      },
      "outputs": [],
      "source": [
        "#Importing relevant libraries\n",
        "from sklearn.ensemble import RandomForestRegressor\n",
        "from xgboost import XGBRegressor\n",
        "from sklearn.metrics import mean_squared_error, r2_score, mean_absolute_error\n",
        "from sklearn.model_selection import GridSearchCV\n",
        "from sklearn.multioutput import MultiOutputRegressor\n",
        "import numpy as np"
      ]
    },
    {
      "cell_type": "code",
      "execution_count": null,
      "metadata": {
        "id": "XSLbx1yLn4iF"
      },
      "outputs": [],
      "source": [
        "# Combine the target variables\n",
        "y = np.column_stack((y_effective, y_ease_of_use))"
      ]
    },
    {
      "cell_type": "code",
      "execution_count": null,
      "metadata": {
        "id": "0TQZipMnvGDQ"
      },
      "outputs": [],
      "source": [
        "# Split data into training and validation sets\n",
        "X_train, X_val, y_train, y_val = train_test_split(X, y, test_size=0.2, random_state=42)"
      ]
    },
    {
      "cell_type": "code",
      "execution_count": null,
      "metadata": {
        "id": "leBinRDjvGFm"
      },
      "outputs": [],
      "source": [
        "# Combine BERT features with other features\n",
        "X_train_combined = pd.concat([X_train.drop(columns='Information').reset_index(drop=True),\n",
        "                              pd.DataFrame(X_train_bert)], axis=1)\n",
        "X_val_combined = pd.concat([X_val.drop(columns='Information').reset_index(drop=True),\n",
        "                            pd.DataFrame(X_val_bert)], axis=1)"
      ]
    },
    {
      "cell_type": "code",
      "execution_count": null,
      "metadata": {
        "id": "A1CSQwdJvGH7"
      },
      "outputs": [],
      "source": [
        "# Initialize the models\n",
        "xgb_model = MultiOutputRegressor(XGBRegressor(objective='reg:squarederror', random_state=42))"
      ]
    },
    {
      "cell_type": "code",
      "execution_count": null,
      "metadata": {
        "id": "lTTCUouAvGKG"
      },
      "outputs": [],
      "source": [
        "# Define parameter grid for XGBoost\n",
        "xgb_param_grid = {\n",
        "    'estimator__n_estimators': [50, 100, 200],\n",
        "    'estimator__max_depth': [3, 6, 9],\n",
        "    'estimator__learning_rate': [0.01, 0.1, 0.2],\n",
        "    'estimator__subsample': [0.8, 1.0]\n",
        "}"
      ]
    },
    {
      "cell_type": "code",
      "execution_count": null,
      "metadata": {
        "id": "cA89Y5bpvGMZ"
      },
      "outputs": [],
      "source": [
        "# Perform GridSearchCV for XGBoost\n",
        "xgb_grid_search = GridSearchCV(estimator=xgb_model, param_grid=xgb_param_grid,\n",
        "                               cv=3, n_jobs=-1, scoring='neg_mean_squared_error')\n",
        "xgb_grid_search.fit(X_train_combined, y_train)\n",
        "best_xgb_model = xgb_grid_search.best_estimator_"
      ]
    },
    {
      "cell_type": "code",
      "execution_count": null,
      "metadata": {
        "id": "H3amklkyvGPC"
      },
      "outputs": [],
      "source": [
        "# Make predictions on validation set\n",
        "xgb_predictions = best_xgb_model.predict(X_val_combined)"
      ]
    },
    {
      "cell_type": "code",
      "execution_count": null,
      "metadata": {
        "id": "xLEzknKBvGSD"
      },
      "outputs": [],
      "source": [
        "# Evaluate models\n",
        "def evaluate_model(y_true, y_pred, model_name):\n",
        "    mse = mean_squared_error(y_true, y_pred, multioutput='raw_values')\n",
        "    rmse = np.sqrt(mse)\n",
        "    mae = mean_absolute_error(y_true, y_pred, multioutput='raw_values')\n",
        "    r2 = r2_score(y_true, y_pred, multioutput='raw_values')\n",
        "\n",
        "    print(f\"{model_name} Performance:\")\n",
        "    print(f\"RMSE: Effectiveness = {rmse[0]:.4f}, Ease of Use = {rmse[1]:.4f}\")\n",
        "    print(f\"MAE: Effectiveness = {mae[0]:.4f}, Ease of Use = {mae[1]:.4f}\")\n",
        "    print(f\"R2 Score: Effectiveness = {r2[0]:.4f}, Ease of Use = {r2[1]:.4f}\")\n",
        "    print()"
      ]
    },
    {
      "cell_type": "code",
      "execution_count": null,
      "metadata": {
        "colab": {
          "base_uri": "https://localhost:8080/"
        },
        "id": "wEf4ZWIavGVk",
        "outputId": "ecee1218-3bac-482b-b694-9177e05cfdc9"
      },
      "outputs": [
        {
          "name": "stdout",
          "output_type": "stream",
          "text": [
            "XGBoost Performance:\n",
            "RMSE: Effectiveness = 0.5816, Ease of Use = 0.7555\n",
            "MAE: Effectiveness = 0.4170, Ease of Use = 0.5549\n",
            "R2 Score: Effectiveness = 0.7197, Ease of Use = 0.4719\n",
            "\n"
          ]
        }
      ],
      "source": [
        "evaluate_model(y_val, xgb_predictions, \"XGBoost\")"
      ]
    },
    {
      "cell_type": "markdown",
      "source": [
        "### Using the random forest regressor to predict the effectiveness of a drug, since it had the best evaluation score"
      ],
      "metadata": {
        "id": "_w59L7zchQwb"
      }
    },
    {
      "cell_type": "code",
      "source": [],
      "metadata": {
        "id": "NU5nWa7phaOK"
      },
      "execution_count": null,
      "outputs": []
    }
  ],
  "metadata": {
    "accelerator": "GPU",
    "colab": {
      "gpuType": "T4",
      "machine_shape": "hm",
      "provenance": []
    },
    "kernelspec": {
      "display_name": "Python 3",
      "name": "python3"
    },
    "language_info": {
      "name": "python"
    },
    "widgets": {
      "application/vnd.jupyter.widget-state+json": {
        "02f83f838252464a8869914b8bf22335": {
          "model_module": "@jupyter-widgets/base",
          "model_module_version": "1.2.0",
          "model_name": "LayoutModel",
          "state": {
            "_model_module": "@jupyter-widgets/base",
            "_model_module_version": "1.2.0",
            "_model_name": "LayoutModel",
            "_view_count": null,
            "_view_module": "@jupyter-widgets/base",
            "_view_module_version": "1.2.0",
            "_view_name": "LayoutView",
            "align_content": null,
            "align_items": null,
            "align_self": null,
            "border": null,
            "bottom": null,
            "display": null,
            "flex": null,
            "flex_flow": null,
            "grid_area": null,
            "grid_auto_columns": null,
            "grid_auto_flow": null,
            "grid_auto_rows": null,
            "grid_column": null,
            "grid_gap": null,
            "grid_row": null,
            "grid_template_areas": null,
            "grid_template_columns": null,
            "grid_template_rows": null,
            "height": null,
            "justify_content": null,
            "justify_items": null,
            "left": null,
            "margin": null,
            "max_height": null,
            "max_width": null,
            "min_height": null,
            "min_width": null,
            "object_fit": null,
            "object_position": null,
            "order": null,
            "overflow": null,
            "overflow_x": null,
            "overflow_y": null,
            "padding": null,
            "right": null,
            "top": null,
            "visibility": null,
            "width": null
          }
        },
        "0ea2917d7c844243906fc554b1269ccf": {
          "model_module": "@jupyter-widgets/base",
          "model_module_version": "1.2.0",
          "model_name": "LayoutModel",
          "state": {
            "_model_module": "@jupyter-widgets/base",
            "_model_module_version": "1.2.0",
            "_model_name": "LayoutModel",
            "_view_count": null,
            "_view_module": "@jupyter-widgets/base",
            "_view_module_version": "1.2.0",
            "_view_name": "LayoutView",
            "align_content": null,
            "align_items": null,
            "align_self": null,
            "border": null,
            "bottom": null,
            "display": null,
            "flex": null,
            "flex_flow": null,
            "grid_area": null,
            "grid_auto_columns": null,
            "grid_auto_flow": null,
            "grid_auto_rows": null,
            "grid_column": null,
            "grid_gap": null,
            "grid_row": null,
            "grid_template_areas": null,
            "grid_template_columns": null,
            "grid_template_rows": null,
            "height": null,
            "justify_content": null,
            "justify_items": null,
            "left": null,
            "margin": null,
            "max_height": null,
            "max_width": null,
            "min_height": null,
            "min_width": null,
            "object_fit": null,
            "object_position": null,
            "order": null,
            "overflow": null,
            "overflow_x": null,
            "overflow_y": null,
            "padding": null,
            "right": null,
            "top": null,
            "visibility": null,
            "width": null
          }
        },
        "19a0f39b1a5544eab6e2a1090f803a60": {
          "model_module": "@jupyter-widgets/controls",
          "model_module_version": "1.5.0",
          "model_name": "DescriptionStyleModel",
          "state": {
            "_model_module": "@jupyter-widgets/controls",
            "_model_module_version": "1.5.0",
            "_model_name": "DescriptionStyleModel",
            "_view_count": null,
            "_view_module": "@jupyter-widgets/base",
            "_view_module_version": "1.2.0",
            "_view_name": "StyleView",
            "description_width": ""
          }
        },
        "1bea7e0b67c24721a0c7f62d0b9bc321": {
          "model_module": "@jupyter-widgets/controls",
          "model_module_version": "1.5.0",
          "model_name": "FloatProgressModel",
          "state": {
            "_dom_classes": [],
            "_model_module": "@jupyter-widgets/controls",
            "_model_module_version": "1.5.0",
            "_model_name": "FloatProgressModel",
            "_view_count": null,
            "_view_module": "@jupyter-widgets/controls",
            "_view_module_version": "1.5.0",
            "_view_name": "ProgressView",
            "bar_style": "success",
            "description": "",
            "description_tooltip": null,
            "layout": "IPY_MODEL_3455d86dcdf8483c9029856bda5bd5f2",
            "max": 48,
            "min": 0,
            "orientation": "horizontal",
            "style": "IPY_MODEL_66198759c1eb4b3a90d8a2ac1041acff",
            "value": 48
          }
        },
        "240b4bf4d7fd4a008bd6a95d5fbb6987": {
          "model_module": "@jupyter-widgets/controls",
          "model_module_version": "1.5.0",
          "model_name": "ProgressStyleModel",
          "state": {
            "_model_module": "@jupyter-widgets/controls",
            "_model_module_version": "1.5.0",
            "_model_name": "ProgressStyleModel",
            "_view_count": null,
            "_view_module": "@jupyter-widgets/base",
            "_view_module_version": "1.2.0",
            "_view_name": "StyleView",
            "bar_color": null,
            "description_width": ""
          }
        },
        "24abec3c8bb84eb296134614a16adb2c": {
          "model_module": "@jupyter-widgets/controls",
          "model_module_version": "1.5.0",
          "model_name": "HBoxModel",
          "state": {
            "_dom_classes": [],
            "_model_module": "@jupyter-widgets/controls",
            "_model_module_version": "1.5.0",
            "_model_name": "HBoxModel",
            "_view_count": null,
            "_view_module": "@jupyter-widgets/controls",
            "_view_module_version": "1.5.0",
            "_view_name": "HBoxView",
            "box_style": "",
            "children": [
              "IPY_MODEL_aca34596e7f14a1fae8cc408966b4ae7",
              "IPY_MODEL_a658ad480ee34153bbebdb4fff5af112",
              "IPY_MODEL_e6cf672e836847b093256c36dff15f58"
            ],
            "layout": "IPY_MODEL_267b0f939f34467b832224304ed79e0c"
          }
        },
        "267b0f939f34467b832224304ed79e0c": {
          "model_module": "@jupyter-widgets/base",
          "model_module_version": "1.2.0",
          "model_name": "LayoutModel",
          "state": {
            "_model_module": "@jupyter-widgets/base",
            "_model_module_version": "1.2.0",
            "_model_name": "LayoutModel",
            "_view_count": null,
            "_view_module": "@jupyter-widgets/base",
            "_view_module_version": "1.2.0",
            "_view_name": "LayoutView",
            "align_content": null,
            "align_items": null,
            "align_self": null,
            "border": null,
            "bottom": null,
            "display": null,
            "flex": null,
            "flex_flow": null,
            "grid_area": null,
            "grid_auto_columns": null,
            "grid_auto_flow": null,
            "grid_auto_rows": null,
            "grid_column": null,
            "grid_gap": null,
            "grid_row": null,
            "grid_template_areas": null,
            "grid_template_columns": null,
            "grid_template_rows": null,
            "height": null,
            "justify_content": null,
            "justify_items": null,
            "left": null,
            "margin": null,
            "max_height": null,
            "max_width": null,
            "min_height": null,
            "min_width": null,
            "object_fit": null,
            "object_position": null,
            "order": null,
            "overflow": null,
            "overflow_x": null,
            "overflow_y": null,
            "padding": null,
            "right": null,
            "top": null,
            "visibility": null,
            "width": null
          }
        },
        "2a70d787172d4556909b173f418791a7": {
          "model_module": "@jupyter-widgets/base",
          "model_module_version": "1.2.0",
          "model_name": "LayoutModel",
          "state": {
            "_model_module": "@jupyter-widgets/base",
            "_model_module_version": "1.2.0",
            "_model_name": "LayoutModel",
            "_view_count": null,
            "_view_module": "@jupyter-widgets/base",
            "_view_module_version": "1.2.0",
            "_view_name": "LayoutView",
            "align_content": null,
            "align_items": null,
            "align_self": null,
            "border": null,
            "bottom": null,
            "display": null,
            "flex": null,
            "flex_flow": null,
            "grid_area": null,
            "grid_auto_columns": null,
            "grid_auto_flow": null,
            "grid_auto_rows": null,
            "grid_column": null,
            "grid_gap": null,
            "grid_row": null,
            "grid_template_areas": null,
            "grid_template_columns": null,
            "grid_template_rows": null,
            "height": null,
            "justify_content": null,
            "justify_items": null,
            "left": null,
            "margin": null,
            "max_height": null,
            "max_width": null,
            "min_height": null,
            "min_width": null,
            "object_fit": null,
            "object_position": null,
            "order": null,
            "overflow": null,
            "overflow_x": null,
            "overflow_y": null,
            "padding": null,
            "right": null,
            "top": null,
            "visibility": null,
            "width": null
          }
        },
        "2ba252ef3f0d460ca8c5296918f8a14e": {
          "model_module": "@jupyter-widgets/controls",
          "model_module_version": "1.5.0",
          "model_name": "HBoxModel",
          "state": {
            "_dom_classes": [],
            "_model_module": "@jupyter-widgets/controls",
            "_model_module_version": "1.5.0",
            "_model_name": "HBoxModel",
            "_view_count": null,
            "_view_module": "@jupyter-widgets/controls",
            "_view_module_version": "1.5.0",
            "_view_name": "HBoxView",
            "box_style": "",
            "children": [
              "IPY_MODEL_d5a7497c989f408f8ff98fcc7df731b7",
              "IPY_MODEL_814c37dd8b6042af9df73d466cf9730a",
              "IPY_MODEL_cdc33d1891c34ecda3fcb8c8abaecee9"
            ],
            "layout": "IPY_MODEL_35e35d223a724a8fbfb4d52506a02659"
          }
        },
        "3455d86dcdf8483c9029856bda5bd5f2": {
          "model_module": "@jupyter-widgets/base",
          "model_module_version": "1.2.0",
          "model_name": "LayoutModel",
          "state": {
            "_model_module": "@jupyter-widgets/base",
            "_model_module_version": "1.2.0",
            "_model_name": "LayoutModel",
            "_view_count": null,
            "_view_module": "@jupyter-widgets/base",
            "_view_module_version": "1.2.0",
            "_view_name": "LayoutView",
            "align_content": null,
            "align_items": null,
            "align_self": null,
            "border": null,
            "bottom": null,
            "display": null,
            "flex": null,
            "flex_flow": null,
            "grid_area": null,
            "grid_auto_columns": null,
            "grid_auto_flow": null,
            "grid_auto_rows": null,
            "grid_column": null,
            "grid_gap": null,
            "grid_row": null,
            "grid_template_areas": null,
            "grid_template_columns": null,
            "grid_template_rows": null,
            "height": null,
            "justify_content": null,
            "justify_items": null,
            "left": null,
            "margin": null,
            "max_height": null,
            "max_width": null,
            "min_height": null,
            "min_width": null,
            "object_fit": null,
            "object_position": null,
            "order": null,
            "overflow": null,
            "overflow_x": null,
            "overflow_y": null,
            "padding": null,
            "right": null,
            "top": null,
            "visibility": null,
            "width": null
          }
        },
        "35e35d223a724a8fbfb4d52506a02659": {
          "model_module": "@jupyter-widgets/base",
          "model_module_version": "1.2.0",
          "model_name": "LayoutModel",
          "state": {
            "_model_module": "@jupyter-widgets/base",
            "_model_module_version": "1.2.0",
            "_model_name": "LayoutModel",
            "_view_count": null,
            "_view_module": "@jupyter-widgets/base",
            "_view_module_version": "1.2.0",
            "_view_name": "LayoutView",
            "align_content": null,
            "align_items": null,
            "align_self": null,
            "border": null,
            "bottom": null,
            "display": null,
            "flex": null,
            "flex_flow": null,
            "grid_area": null,
            "grid_auto_columns": null,
            "grid_auto_flow": null,
            "grid_auto_rows": null,
            "grid_column": null,
            "grid_gap": null,
            "grid_row": null,
            "grid_template_areas": null,
            "grid_template_columns": null,
            "grid_template_rows": null,
            "height": null,
            "justify_content": null,
            "justify_items": null,
            "left": null,
            "margin": null,
            "max_height": null,
            "max_width": null,
            "min_height": null,
            "min_width": null,
            "object_fit": null,
            "object_position": null,
            "order": null,
            "overflow": null,
            "overflow_x": null,
            "overflow_y": null,
            "padding": null,
            "right": null,
            "top": null,
            "visibility": null,
            "width": null
          }
        },
        "36b35d1d73e3472d95a2dd6a39eb7470": {
          "model_module": "@jupyter-widgets/controls",
          "model_module_version": "1.5.0",
          "model_name": "HTMLModel",
          "state": {
            "_dom_classes": [],
            "_model_module": "@jupyter-widgets/controls",
            "_model_module_version": "1.5.0",
            "_model_name": "HTMLModel",
            "_view_count": null,
            "_view_module": "@jupyter-widgets/controls",
            "_view_module_version": "1.5.0",
            "_view_name": "HTMLView",
            "description": "",
            "description_tooltip": null,
            "layout": "IPY_MODEL_e94f9c4b43454b5d84905a23f07964c9",
            "placeholder": "​",
            "style": "IPY_MODEL_f0a4546d106049a7947dbd023925bff9",
            "value": "tokenizer.json: 100%"
          }
        },
        "36bb662d90144b48ad7f6f6ee65f9975": {
          "model_module": "@jupyter-widgets/controls",
          "model_module_version": "1.5.0",
          "model_name": "ProgressStyleModel",
          "state": {
            "_model_module": "@jupyter-widgets/controls",
            "_model_module_version": "1.5.0",
            "_model_name": "ProgressStyleModel",
            "_view_count": null,
            "_view_module": "@jupyter-widgets/base",
            "_view_module_version": "1.2.0",
            "_view_name": "StyleView",
            "bar_color": null,
            "description_width": ""
          }
        },
        "39197a9ba4fa494ba4425c83869ee5f6": {
          "model_module": "@jupyter-widgets/controls",
          "model_module_version": "1.5.0",
          "model_name": "HTMLModel",
          "state": {
            "_dom_classes": [],
            "_model_module": "@jupyter-widgets/controls",
            "_model_module_version": "1.5.0",
            "_model_name": "HTMLModel",
            "_view_count": null,
            "_view_module": "@jupyter-widgets/controls",
            "_view_module_version": "1.5.0",
            "_view_name": "HTMLView",
            "description": "",
            "description_tooltip": null,
            "layout": "IPY_MODEL_d2858dfbf13c4cdda11cddd5ce195e1d",
            "placeholder": "​",
            "style": "IPY_MODEL_74312eb2b24c496484e39b3700c8e7a1",
            "value": " 48.0/48.0 [00:00&lt;00:00, 3.34kB/s]"
          }
        },
        "3a7e03e1c13d4842bd2aa73d9399f3d1": {
          "model_module": "@jupyter-widgets/base",
          "model_module_version": "1.2.0",
          "model_name": "LayoutModel",
          "state": {
            "_model_module": "@jupyter-widgets/base",
            "_model_module_version": "1.2.0",
            "_model_name": "LayoutModel",
            "_view_count": null,
            "_view_module": "@jupyter-widgets/base",
            "_view_module_version": "1.2.0",
            "_view_name": "LayoutView",
            "align_content": null,
            "align_items": null,
            "align_self": null,
            "border": null,
            "bottom": null,
            "display": null,
            "flex": null,
            "flex_flow": null,
            "grid_area": null,
            "grid_auto_columns": null,
            "grid_auto_flow": null,
            "grid_auto_rows": null,
            "grid_column": null,
            "grid_gap": null,
            "grid_row": null,
            "grid_template_areas": null,
            "grid_template_columns": null,
            "grid_template_rows": null,
            "height": null,
            "justify_content": null,
            "justify_items": null,
            "left": null,
            "margin": null,
            "max_height": null,
            "max_width": null,
            "min_height": null,
            "min_width": null,
            "object_fit": null,
            "object_position": null,
            "order": null,
            "overflow": null,
            "overflow_x": null,
            "overflow_y": null,
            "padding": null,
            "right": null,
            "top": null,
            "visibility": null,
            "width": null
          }
        },
        "3b42064dcd5e4283b1e524d90294ddfd": {
          "model_module": "@jupyter-widgets/controls",
          "model_module_version": "1.5.0",
          "model_name": "HTMLModel",
          "state": {
            "_dom_classes": [],
            "_model_module": "@jupyter-widgets/controls",
            "_model_module_version": "1.5.0",
            "_model_name": "HTMLModel",
            "_view_count": null,
            "_view_module": "@jupyter-widgets/controls",
            "_view_module_version": "1.5.0",
            "_view_name": "HTMLView",
            "description": "",
            "description_tooltip": null,
            "layout": "IPY_MODEL_8293d180e01d4a709a732fde92ec4211",
            "placeholder": "​",
            "style": "IPY_MODEL_86b66195288f4f7f9d74eef1e57d09f9",
            "value": "tokenizer_config.json: 100%"
          }
        },
        "463c5591fe71464199d35b15fa949730": {
          "model_module": "@jupyter-widgets/controls",
          "model_module_version": "1.5.0",
          "model_name": "FloatProgressModel",
          "state": {
            "_dom_classes": [],
            "_model_module": "@jupyter-widgets/controls",
            "_model_module_version": "1.5.0",
            "_model_name": "FloatProgressModel",
            "_view_count": null,
            "_view_module": "@jupyter-widgets/controls",
            "_view_module_version": "1.5.0",
            "_view_name": "ProgressView",
            "bar_style": "success",
            "description": "",
            "description_tooltip": null,
            "layout": "IPY_MODEL_0ea2917d7c844243906fc554b1269ccf",
            "max": 466062,
            "min": 0,
            "orientation": "horizontal",
            "style": "IPY_MODEL_240b4bf4d7fd4a008bd6a95d5fbb6987",
            "value": 466062
          }
        },
        "4652a86d8d584760b6d55d125d83273f": {
          "model_module": "@jupyter-widgets/controls",
          "model_module_version": "1.5.0",
          "model_name": "DescriptionStyleModel",
          "state": {
            "_model_module": "@jupyter-widgets/controls",
            "_model_module_version": "1.5.0",
            "_model_name": "DescriptionStyleModel",
            "_view_count": null,
            "_view_module": "@jupyter-widgets/base",
            "_view_module_version": "1.2.0",
            "_view_name": "StyleView",
            "description_width": ""
          }
        },
        "4aa1ef33efc4437cbc57f5f44ea6ffd5": {
          "model_module": "@jupyter-widgets/base",
          "model_module_version": "1.2.0",
          "model_name": "LayoutModel",
          "state": {
            "_model_module": "@jupyter-widgets/base",
            "_model_module_version": "1.2.0",
            "_model_name": "LayoutModel",
            "_view_count": null,
            "_view_module": "@jupyter-widgets/base",
            "_view_module_version": "1.2.0",
            "_view_name": "LayoutView",
            "align_content": null,
            "align_items": null,
            "align_self": null,
            "border": null,
            "bottom": null,
            "display": null,
            "flex": null,
            "flex_flow": null,
            "grid_area": null,
            "grid_auto_columns": null,
            "grid_auto_flow": null,
            "grid_auto_rows": null,
            "grid_column": null,
            "grid_gap": null,
            "grid_row": null,
            "grid_template_areas": null,
            "grid_template_columns": null,
            "grid_template_rows": null,
            "height": null,
            "justify_content": null,
            "justify_items": null,
            "left": null,
            "margin": null,
            "max_height": null,
            "max_width": null,
            "min_height": null,
            "min_width": null,
            "object_fit": null,
            "object_position": null,
            "order": null,
            "overflow": null,
            "overflow_x": null,
            "overflow_y": null,
            "padding": null,
            "right": null,
            "top": null,
            "visibility": null,
            "width": null
          }
        },
        "4c3602a92c4c405e8c103742585916d6": {
          "model_module": "@jupyter-widgets/controls",
          "model_module_version": "1.5.0",
          "model_name": "ProgressStyleModel",
          "state": {
            "_model_module": "@jupyter-widgets/controls",
            "_model_module_version": "1.5.0",
            "_model_name": "ProgressStyleModel",
            "_view_count": null,
            "_view_module": "@jupyter-widgets/base",
            "_view_module_version": "1.2.0",
            "_view_name": "StyleView",
            "bar_color": null,
            "description_width": ""
          }
        },
        "5183b2e7726440c2bfdf36e658b4ab02": {
          "model_module": "@jupyter-widgets/controls",
          "model_module_version": "1.5.0",
          "model_name": "HTMLModel",
          "state": {
            "_dom_classes": [],
            "_model_module": "@jupyter-widgets/controls",
            "_model_module_version": "1.5.0",
            "_model_name": "HTMLModel",
            "_view_count": null,
            "_view_module": "@jupyter-widgets/controls",
            "_view_module_version": "1.5.0",
            "_view_name": "HTMLView",
            "description": "",
            "description_tooltip": null,
            "layout": "IPY_MODEL_8f77f9e8c6744f669bf7c7c4141e012f",
            "placeholder": "​",
            "style": "IPY_MODEL_da02fd6337cc453fb0147a5129f86f6a",
            "value": " 466k/466k [00:00&lt;00:00, 7.09MB/s]"
          }
        },
        "575f615efe5d4c7cac4f38d3e000d576": {
          "model_module": "@jupyter-widgets/controls",
          "model_module_version": "1.5.0",
          "model_name": "HBoxModel",
          "state": {
            "_dom_classes": [],
            "_model_module": "@jupyter-widgets/controls",
            "_model_module_version": "1.5.0",
            "_model_name": "HBoxModel",
            "_view_count": null,
            "_view_module": "@jupyter-widgets/controls",
            "_view_module_version": "1.5.0",
            "_view_name": "HBoxView",
            "box_style": "",
            "children": [
              "IPY_MODEL_bd586d35a0104206b1f38107c2739809",
              "IPY_MODEL_6601a06ac6484ebe99fa8ac712079295",
              "IPY_MODEL_e0094ac486df4a9897a2e0f9caf8e086"
            ],
            "layout": "IPY_MODEL_8d0a6632b7ae43bcb0e23708d2ffa880"
          }
        },
        "5cca315f9ec54fecabff950c5e481ac5": {
          "model_module": "@jupyter-widgets/base",
          "model_module_version": "1.2.0",
          "model_name": "LayoutModel",
          "state": {
            "_model_module": "@jupyter-widgets/base",
            "_model_module_version": "1.2.0",
            "_model_name": "LayoutModel",
            "_view_count": null,
            "_view_module": "@jupyter-widgets/base",
            "_view_module_version": "1.2.0",
            "_view_name": "LayoutView",
            "align_content": null,
            "align_items": null,
            "align_self": null,
            "border": null,
            "bottom": null,
            "display": null,
            "flex": null,
            "flex_flow": null,
            "grid_area": null,
            "grid_auto_columns": null,
            "grid_auto_flow": null,
            "grid_auto_rows": null,
            "grid_column": null,
            "grid_gap": null,
            "grid_row": null,
            "grid_template_areas": null,
            "grid_template_columns": null,
            "grid_template_rows": null,
            "height": null,
            "justify_content": null,
            "justify_items": null,
            "left": null,
            "margin": null,
            "max_height": null,
            "max_width": null,
            "min_height": null,
            "min_width": null,
            "object_fit": null,
            "object_position": null,
            "order": null,
            "overflow": null,
            "overflow_x": null,
            "overflow_y": null,
            "padding": null,
            "right": null,
            "top": null,
            "visibility": null,
            "width": null
          }
        },
        "65706e474e8c423981e088a250ae23ac": {
          "model_module": "@jupyter-widgets/base",
          "model_module_version": "1.2.0",
          "model_name": "LayoutModel",
          "state": {
            "_model_module": "@jupyter-widgets/base",
            "_model_module_version": "1.2.0",
            "_model_name": "LayoutModel",
            "_view_count": null,
            "_view_module": "@jupyter-widgets/base",
            "_view_module_version": "1.2.0",
            "_view_name": "LayoutView",
            "align_content": null,
            "align_items": null,
            "align_self": null,
            "border": null,
            "bottom": null,
            "display": null,
            "flex": null,
            "flex_flow": null,
            "grid_area": null,
            "grid_auto_columns": null,
            "grid_auto_flow": null,
            "grid_auto_rows": null,
            "grid_column": null,
            "grid_gap": null,
            "grid_row": null,
            "grid_template_areas": null,
            "grid_template_columns": null,
            "grid_template_rows": null,
            "height": null,
            "justify_content": null,
            "justify_items": null,
            "left": null,
            "margin": null,
            "max_height": null,
            "max_width": null,
            "min_height": null,
            "min_width": null,
            "object_fit": null,
            "object_position": null,
            "order": null,
            "overflow": null,
            "overflow_x": null,
            "overflow_y": null,
            "padding": null,
            "right": null,
            "top": null,
            "visibility": null,
            "width": null
          }
        },
        "6601a06ac6484ebe99fa8ac712079295": {
          "model_module": "@jupyter-widgets/controls",
          "model_module_version": "1.5.0",
          "model_name": "FloatProgressModel",
          "state": {
            "_dom_classes": [],
            "_model_module": "@jupyter-widgets/controls",
            "_model_module_version": "1.5.0",
            "_model_name": "FloatProgressModel",
            "_view_count": null,
            "_view_module": "@jupyter-widgets/controls",
            "_view_module_version": "1.5.0",
            "_view_name": "ProgressView",
            "bar_style": "success",
            "description": "",
            "description_tooltip": null,
            "layout": "IPY_MODEL_e24e42bbbc44443799dacf99da4c6740",
            "max": 570,
            "min": 0,
            "orientation": "horizontal",
            "style": "IPY_MODEL_36bb662d90144b48ad7f6f6ee65f9975",
            "value": 570
          }
        },
        "66198759c1eb4b3a90d8a2ac1041acff": {
          "model_module": "@jupyter-widgets/controls",
          "model_module_version": "1.5.0",
          "model_name": "ProgressStyleModel",
          "state": {
            "_model_module": "@jupyter-widgets/controls",
            "_model_module_version": "1.5.0",
            "_model_name": "ProgressStyleModel",
            "_view_count": null,
            "_view_module": "@jupyter-widgets/base",
            "_view_module_version": "1.2.0",
            "_view_name": "StyleView",
            "bar_color": null,
            "description_width": ""
          }
        },
        "6e0e7cca0d594564afa87622b7d3137d": {
          "model_module": "@jupyter-widgets/base",
          "model_module_version": "1.2.0",
          "model_name": "LayoutModel",
          "state": {
            "_model_module": "@jupyter-widgets/base",
            "_model_module_version": "1.2.0",
            "_model_name": "LayoutModel",
            "_view_count": null,
            "_view_module": "@jupyter-widgets/base",
            "_view_module_version": "1.2.0",
            "_view_name": "LayoutView",
            "align_content": null,
            "align_items": null,
            "align_self": null,
            "border": null,
            "bottom": null,
            "display": null,
            "flex": null,
            "flex_flow": null,
            "grid_area": null,
            "grid_auto_columns": null,
            "grid_auto_flow": null,
            "grid_auto_rows": null,
            "grid_column": null,
            "grid_gap": null,
            "grid_row": null,
            "grid_template_areas": null,
            "grid_template_columns": null,
            "grid_template_rows": null,
            "height": null,
            "justify_content": null,
            "justify_items": null,
            "left": null,
            "margin": null,
            "max_height": null,
            "max_width": null,
            "min_height": null,
            "min_width": null,
            "object_fit": null,
            "object_position": null,
            "order": null,
            "overflow": null,
            "overflow_x": null,
            "overflow_y": null,
            "padding": null,
            "right": null,
            "top": null,
            "visibility": null,
            "width": null
          }
        },
        "6e366e769aa84a489a9c54722cdbea2f": {
          "model_module": "@jupyter-widgets/base",
          "model_module_version": "1.2.0",
          "model_name": "LayoutModel",
          "state": {
            "_model_module": "@jupyter-widgets/base",
            "_model_module_version": "1.2.0",
            "_model_name": "LayoutModel",
            "_view_count": null,
            "_view_module": "@jupyter-widgets/base",
            "_view_module_version": "1.2.0",
            "_view_name": "LayoutView",
            "align_content": null,
            "align_items": null,
            "align_self": null,
            "border": null,
            "bottom": null,
            "display": null,
            "flex": null,
            "flex_flow": null,
            "grid_area": null,
            "grid_auto_columns": null,
            "grid_auto_flow": null,
            "grid_auto_rows": null,
            "grid_column": null,
            "grid_gap": null,
            "grid_row": null,
            "grid_template_areas": null,
            "grid_template_columns": null,
            "grid_template_rows": null,
            "height": null,
            "justify_content": null,
            "justify_items": null,
            "left": null,
            "margin": null,
            "max_height": null,
            "max_width": null,
            "min_height": null,
            "min_width": null,
            "object_fit": null,
            "object_position": null,
            "order": null,
            "overflow": null,
            "overflow_x": null,
            "overflow_y": null,
            "padding": null,
            "right": null,
            "top": null,
            "visibility": null,
            "width": null
          }
        },
        "74312eb2b24c496484e39b3700c8e7a1": {
          "model_module": "@jupyter-widgets/controls",
          "model_module_version": "1.5.0",
          "model_name": "DescriptionStyleModel",
          "state": {
            "_model_module": "@jupyter-widgets/controls",
            "_model_module_version": "1.5.0",
            "_model_name": "DescriptionStyleModel",
            "_view_count": null,
            "_view_module": "@jupyter-widgets/base",
            "_view_module_version": "1.2.0",
            "_view_name": "StyleView",
            "description_width": ""
          }
        },
        "7d02d06774834324a0b9b56199997c0d": {
          "model_module": "@jupyter-widgets/controls",
          "model_module_version": "1.5.0",
          "model_name": "HBoxModel",
          "state": {
            "_dom_classes": [],
            "_model_module": "@jupyter-widgets/controls",
            "_model_module_version": "1.5.0",
            "_model_name": "HBoxModel",
            "_view_count": null,
            "_view_module": "@jupyter-widgets/controls",
            "_view_module_version": "1.5.0",
            "_view_name": "HBoxView",
            "box_style": "",
            "children": [
              "IPY_MODEL_3b42064dcd5e4283b1e524d90294ddfd",
              "IPY_MODEL_1bea7e0b67c24721a0c7f62d0b9bc321",
              "IPY_MODEL_39197a9ba4fa494ba4425c83869ee5f6"
            ],
            "layout": "IPY_MODEL_3a7e03e1c13d4842bd2aa73d9399f3d1"
          }
        },
        "814c37dd8b6042af9df73d466cf9730a": {
          "model_module": "@jupyter-widgets/controls",
          "model_module_version": "1.5.0",
          "model_name": "FloatProgressModel",
          "state": {
            "_dom_classes": [],
            "_model_module": "@jupyter-widgets/controls",
            "_model_module_version": "1.5.0",
            "_model_name": "FloatProgressModel",
            "_view_count": null,
            "_view_module": "@jupyter-widgets/controls",
            "_view_module_version": "1.5.0",
            "_view_name": "ProgressView",
            "bar_style": "success",
            "description": "",
            "description_tooltip": null,
            "layout": "IPY_MODEL_c58c12189bb24a589e7c2a8a7218987c",
            "max": 231508,
            "min": 0,
            "orientation": "horizontal",
            "style": "IPY_MODEL_4c3602a92c4c405e8c103742585916d6",
            "value": 231508
          }
        },
        "8293d180e01d4a709a732fde92ec4211": {
          "model_module": "@jupyter-widgets/base",
          "model_module_version": "1.2.0",
          "model_name": "LayoutModel",
          "state": {
            "_model_module": "@jupyter-widgets/base",
            "_model_module_version": "1.2.0",
            "_model_name": "LayoutModel",
            "_view_count": null,
            "_view_module": "@jupyter-widgets/base",
            "_view_module_version": "1.2.0",
            "_view_name": "LayoutView",
            "align_content": null,
            "align_items": null,
            "align_self": null,
            "border": null,
            "bottom": null,
            "display": null,
            "flex": null,
            "flex_flow": null,
            "grid_area": null,
            "grid_auto_columns": null,
            "grid_auto_flow": null,
            "grid_auto_rows": null,
            "grid_column": null,
            "grid_gap": null,
            "grid_row": null,
            "grid_template_areas": null,
            "grid_template_columns": null,
            "grid_template_rows": null,
            "height": null,
            "justify_content": null,
            "justify_items": null,
            "left": null,
            "margin": null,
            "max_height": null,
            "max_width": null,
            "min_height": null,
            "min_width": null,
            "object_fit": null,
            "object_position": null,
            "order": null,
            "overflow": null,
            "overflow_x": null,
            "overflow_y": null,
            "padding": null,
            "right": null,
            "top": null,
            "visibility": null,
            "width": null
          }
        },
        "86b66195288f4f7f9d74eef1e57d09f9": {
          "model_module": "@jupyter-widgets/controls",
          "model_module_version": "1.5.0",
          "model_name": "DescriptionStyleModel",
          "state": {
            "_model_module": "@jupyter-widgets/controls",
            "_model_module_version": "1.5.0",
            "_model_name": "DescriptionStyleModel",
            "_view_count": null,
            "_view_module": "@jupyter-widgets/base",
            "_view_module_version": "1.2.0",
            "_view_name": "StyleView",
            "description_width": ""
          }
        },
        "8d0a6632b7ae43bcb0e23708d2ffa880": {
          "model_module": "@jupyter-widgets/base",
          "model_module_version": "1.2.0",
          "model_name": "LayoutModel",
          "state": {
            "_model_module": "@jupyter-widgets/base",
            "_model_module_version": "1.2.0",
            "_model_name": "LayoutModel",
            "_view_count": null,
            "_view_module": "@jupyter-widgets/base",
            "_view_module_version": "1.2.0",
            "_view_name": "LayoutView",
            "align_content": null,
            "align_items": null,
            "align_self": null,
            "border": null,
            "bottom": null,
            "display": null,
            "flex": null,
            "flex_flow": null,
            "grid_area": null,
            "grid_auto_columns": null,
            "grid_auto_flow": null,
            "grid_auto_rows": null,
            "grid_column": null,
            "grid_gap": null,
            "grid_row": null,
            "grid_template_areas": null,
            "grid_template_columns": null,
            "grid_template_rows": null,
            "height": null,
            "justify_content": null,
            "justify_items": null,
            "left": null,
            "margin": null,
            "max_height": null,
            "max_width": null,
            "min_height": null,
            "min_width": null,
            "object_fit": null,
            "object_position": null,
            "order": null,
            "overflow": null,
            "overflow_x": null,
            "overflow_y": null,
            "padding": null,
            "right": null,
            "top": null,
            "visibility": null,
            "width": null
          }
        },
        "8f77f9e8c6744f669bf7c7c4141e012f": {
          "model_module": "@jupyter-widgets/base",
          "model_module_version": "1.2.0",
          "model_name": "LayoutModel",
          "state": {
            "_model_module": "@jupyter-widgets/base",
            "_model_module_version": "1.2.0",
            "_model_name": "LayoutModel",
            "_view_count": null,
            "_view_module": "@jupyter-widgets/base",
            "_view_module_version": "1.2.0",
            "_view_name": "LayoutView",
            "align_content": null,
            "align_items": null,
            "align_self": null,
            "border": null,
            "bottom": null,
            "display": null,
            "flex": null,
            "flex_flow": null,
            "grid_area": null,
            "grid_auto_columns": null,
            "grid_auto_flow": null,
            "grid_auto_rows": null,
            "grid_column": null,
            "grid_gap": null,
            "grid_row": null,
            "grid_template_areas": null,
            "grid_template_columns": null,
            "grid_template_rows": null,
            "height": null,
            "justify_content": null,
            "justify_items": null,
            "left": null,
            "margin": null,
            "max_height": null,
            "max_width": null,
            "min_height": null,
            "min_width": null,
            "object_fit": null,
            "object_position": null,
            "order": null,
            "overflow": null,
            "overflow_x": null,
            "overflow_y": null,
            "padding": null,
            "right": null,
            "top": null,
            "visibility": null,
            "width": null
          }
        },
        "988eafb7e2724d358a38b80ba673c73f": {
          "model_module": "@jupyter-widgets/base",
          "model_module_version": "1.2.0",
          "model_name": "LayoutModel",
          "state": {
            "_model_module": "@jupyter-widgets/base",
            "_model_module_version": "1.2.0",
            "_model_name": "LayoutModel",
            "_view_count": null,
            "_view_module": "@jupyter-widgets/base",
            "_view_module_version": "1.2.0",
            "_view_name": "LayoutView",
            "align_content": null,
            "align_items": null,
            "align_self": null,
            "border": null,
            "bottom": null,
            "display": null,
            "flex": null,
            "flex_flow": null,
            "grid_area": null,
            "grid_auto_columns": null,
            "grid_auto_flow": null,
            "grid_auto_rows": null,
            "grid_column": null,
            "grid_gap": null,
            "grid_row": null,
            "grid_template_areas": null,
            "grid_template_columns": null,
            "grid_template_rows": null,
            "height": null,
            "justify_content": null,
            "justify_items": null,
            "left": null,
            "margin": null,
            "max_height": null,
            "max_width": null,
            "min_height": null,
            "min_width": null,
            "object_fit": null,
            "object_position": null,
            "order": null,
            "overflow": null,
            "overflow_x": null,
            "overflow_y": null,
            "padding": null,
            "right": null,
            "top": null,
            "visibility": null,
            "width": null
          }
        },
        "a0b7b11016ba456b8ac8c2634fce7944": {
          "model_module": "@jupyter-widgets/controls",
          "model_module_version": "1.5.0",
          "model_name": "HBoxModel",
          "state": {
            "_dom_classes": [],
            "_model_module": "@jupyter-widgets/controls",
            "_model_module_version": "1.5.0",
            "_model_name": "HBoxModel",
            "_view_count": null,
            "_view_module": "@jupyter-widgets/controls",
            "_view_module_version": "1.5.0",
            "_view_name": "HBoxView",
            "box_style": "",
            "children": [
              "IPY_MODEL_36b35d1d73e3472d95a2dd6a39eb7470",
              "IPY_MODEL_463c5591fe71464199d35b15fa949730",
              "IPY_MODEL_5183b2e7726440c2bfdf36e658b4ab02"
            ],
            "layout": "IPY_MODEL_2a70d787172d4556909b173f418791a7"
          }
        },
        "a658ad480ee34153bbebdb4fff5af112": {
          "model_module": "@jupyter-widgets/controls",
          "model_module_version": "1.5.0",
          "model_name": "FloatProgressModel",
          "state": {
            "_dom_classes": [],
            "_model_module": "@jupyter-widgets/controls",
            "_model_module_version": "1.5.0",
            "_model_name": "FloatProgressModel",
            "_view_count": null,
            "_view_module": "@jupyter-widgets/controls",
            "_view_module_version": "1.5.0",
            "_view_name": "ProgressView",
            "bar_style": "success",
            "description": "",
            "description_tooltip": null,
            "layout": "IPY_MODEL_6e0e7cca0d594564afa87622b7d3137d",
            "max": 440449768,
            "min": 0,
            "orientation": "horizontal",
            "style": "IPY_MODEL_e6d15b176c924025bc97105c93f9e6ed",
            "value": 440449768
          }
        },
        "aca34596e7f14a1fae8cc408966b4ae7": {
          "model_module": "@jupyter-widgets/controls",
          "model_module_version": "1.5.0",
          "model_name": "HTMLModel",
          "state": {
            "_dom_classes": [],
            "_model_module": "@jupyter-widgets/controls",
            "_model_module_version": "1.5.0",
            "_model_name": "HTMLModel",
            "_view_count": null,
            "_view_module": "@jupyter-widgets/controls",
            "_view_module_version": "1.5.0",
            "_view_name": "HTMLView",
            "description": "",
            "description_tooltip": null,
            "layout": "IPY_MODEL_988eafb7e2724d358a38b80ba673c73f",
            "placeholder": "​",
            "style": "IPY_MODEL_4652a86d8d584760b6d55d125d83273f",
            "value": "model.safetensors: 100%"
          }
        },
        "aee6d26abb374ee09d34b4772290c1b3": {
          "model_module": "@jupyter-widgets/controls",
          "model_module_version": "1.5.0",
          "model_name": "DescriptionStyleModel",
          "state": {
            "_model_module": "@jupyter-widgets/controls",
            "_model_module_version": "1.5.0",
            "_model_name": "DescriptionStyleModel",
            "_view_count": null,
            "_view_module": "@jupyter-widgets/base",
            "_view_module_version": "1.2.0",
            "_view_name": "StyleView",
            "description_width": ""
          }
        },
        "b754c11e00274698bf035e53c4f29948": {
          "model_module": "@jupyter-widgets/controls",
          "model_module_version": "1.5.0",
          "model_name": "DescriptionStyleModel",
          "state": {
            "_model_module": "@jupyter-widgets/controls",
            "_model_module_version": "1.5.0",
            "_model_name": "DescriptionStyleModel",
            "_view_count": null,
            "_view_module": "@jupyter-widgets/base",
            "_view_module_version": "1.2.0",
            "_view_name": "StyleView",
            "description_width": ""
          }
        },
        "bd586d35a0104206b1f38107c2739809": {
          "model_module": "@jupyter-widgets/controls",
          "model_module_version": "1.5.0",
          "model_name": "HTMLModel",
          "state": {
            "_dom_classes": [],
            "_model_module": "@jupyter-widgets/controls",
            "_model_module_version": "1.5.0",
            "_model_name": "HTMLModel",
            "_view_count": null,
            "_view_module": "@jupyter-widgets/controls",
            "_view_module_version": "1.5.0",
            "_view_name": "HTMLView",
            "description": "",
            "description_tooltip": null,
            "layout": "IPY_MODEL_6e366e769aa84a489a9c54722cdbea2f",
            "placeholder": "​",
            "style": "IPY_MODEL_19a0f39b1a5544eab6e2a1090f803a60",
            "value": "config.json: 100%"
          }
        },
        "c58c12189bb24a589e7c2a8a7218987c": {
          "model_module": "@jupyter-widgets/base",
          "model_module_version": "1.2.0",
          "model_name": "LayoutModel",
          "state": {
            "_model_module": "@jupyter-widgets/base",
            "_model_module_version": "1.2.0",
            "_model_name": "LayoutModel",
            "_view_count": null,
            "_view_module": "@jupyter-widgets/base",
            "_view_module_version": "1.2.0",
            "_view_name": "LayoutView",
            "align_content": null,
            "align_items": null,
            "align_self": null,
            "border": null,
            "bottom": null,
            "display": null,
            "flex": null,
            "flex_flow": null,
            "grid_area": null,
            "grid_auto_columns": null,
            "grid_auto_flow": null,
            "grid_auto_rows": null,
            "grid_column": null,
            "grid_gap": null,
            "grid_row": null,
            "grid_template_areas": null,
            "grid_template_columns": null,
            "grid_template_rows": null,
            "height": null,
            "justify_content": null,
            "justify_items": null,
            "left": null,
            "margin": null,
            "max_height": null,
            "max_width": null,
            "min_height": null,
            "min_width": null,
            "object_fit": null,
            "object_position": null,
            "order": null,
            "overflow": null,
            "overflow_x": null,
            "overflow_y": null,
            "padding": null,
            "right": null,
            "top": null,
            "visibility": null,
            "width": null
          }
        },
        "cdc33d1891c34ecda3fcb8c8abaecee9": {
          "model_module": "@jupyter-widgets/controls",
          "model_module_version": "1.5.0",
          "model_name": "HTMLModel",
          "state": {
            "_dom_classes": [],
            "_model_module": "@jupyter-widgets/controls",
            "_model_module_version": "1.5.0",
            "_model_name": "HTMLModel",
            "_view_count": null,
            "_view_module": "@jupyter-widgets/controls",
            "_view_module_version": "1.5.0",
            "_view_name": "HTMLView",
            "description": "",
            "description_tooltip": null,
            "layout": "IPY_MODEL_4aa1ef33efc4437cbc57f5f44ea6ffd5",
            "placeholder": "​",
            "style": "IPY_MODEL_d43b27d08c4d43d38e59715796d7a1bd",
            "value": " 232k/232k [00:00&lt;00:00, 2.92MB/s]"
          }
        },
        "d2858dfbf13c4cdda11cddd5ce195e1d": {
          "model_module": "@jupyter-widgets/base",
          "model_module_version": "1.2.0",
          "model_name": "LayoutModel",
          "state": {
            "_model_module": "@jupyter-widgets/base",
            "_model_module_version": "1.2.0",
            "_model_name": "LayoutModel",
            "_view_count": null,
            "_view_module": "@jupyter-widgets/base",
            "_view_module_version": "1.2.0",
            "_view_name": "LayoutView",
            "align_content": null,
            "align_items": null,
            "align_self": null,
            "border": null,
            "bottom": null,
            "display": null,
            "flex": null,
            "flex_flow": null,
            "grid_area": null,
            "grid_auto_columns": null,
            "grid_auto_flow": null,
            "grid_auto_rows": null,
            "grid_column": null,
            "grid_gap": null,
            "grid_row": null,
            "grid_template_areas": null,
            "grid_template_columns": null,
            "grid_template_rows": null,
            "height": null,
            "justify_content": null,
            "justify_items": null,
            "left": null,
            "margin": null,
            "max_height": null,
            "max_width": null,
            "min_height": null,
            "min_width": null,
            "object_fit": null,
            "object_position": null,
            "order": null,
            "overflow": null,
            "overflow_x": null,
            "overflow_y": null,
            "padding": null,
            "right": null,
            "top": null,
            "visibility": null,
            "width": null
          }
        },
        "d43b27d08c4d43d38e59715796d7a1bd": {
          "model_module": "@jupyter-widgets/controls",
          "model_module_version": "1.5.0",
          "model_name": "DescriptionStyleModel",
          "state": {
            "_model_module": "@jupyter-widgets/controls",
            "_model_module_version": "1.5.0",
            "_model_name": "DescriptionStyleModel",
            "_view_count": null,
            "_view_module": "@jupyter-widgets/base",
            "_view_module_version": "1.2.0",
            "_view_name": "StyleView",
            "description_width": ""
          }
        },
        "d5a7497c989f408f8ff98fcc7df731b7": {
          "model_module": "@jupyter-widgets/controls",
          "model_module_version": "1.5.0",
          "model_name": "HTMLModel",
          "state": {
            "_dom_classes": [],
            "_model_module": "@jupyter-widgets/controls",
            "_model_module_version": "1.5.0",
            "_model_name": "HTMLModel",
            "_view_count": null,
            "_view_module": "@jupyter-widgets/controls",
            "_view_module_version": "1.5.0",
            "_view_name": "HTMLView",
            "description": "",
            "description_tooltip": null,
            "layout": "IPY_MODEL_02f83f838252464a8869914b8bf22335",
            "placeholder": "​",
            "style": "IPY_MODEL_b754c11e00274698bf035e53c4f29948",
            "value": "vocab.txt: 100%"
          }
        },
        "da02fd6337cc453fb0147a5129f86f6a": {
          "model_module": "@jupyter-widgets/controls",
          "model_module_version": "1.5.0",
          "model_name": "DescriptionStyleModel",
          "state": {
            "_model_module": "@jupyter-widgets/controls",
            "_model_module_version": "1.5.0",
            "_model_name": "DescriptionStyleModel",
            "_view_count": null,
            "_view_module": "@jupyter-widgets/base",
            "_view_module_version": "1.2.0",
            "_view_name": "StyleView",
            "description_width": ""
          }
        },
        "dca6427f17d842cf85f0f9a50ddaae18": {
          "model_module": "@jupyter-widgets/controls",
          "model_module_version": "1.5.0",
          "model_name": "DescriptionStyleModel",
          "state": {
            "_model_module": "@jupyter-widgets/controls",
            "_model_module_version": "1.5.0",
            "_model_name": "DescriptionStyleModel",
            "_view_count": null,
            "_view_module": "@jupyter-widgets/base",
            "_view_module_version": "1.2.0",
            "_view_name": "StyleView",
            "description_width": ""
          }
        },
        "e0094ac486df4a9897a2e0f9caf8e086": {
          "model_module": "@jupyter-widgets/controls",
          "model_module_version": "1.5.0",
          "model_name": "HTMLModel",
          "state": {
            "_dom_classes": [],
            "_model_module": "@jupyter-widgets/controls",
            "_model_module_version": "1.5.0",
            "_model_name": "HTMLModel",
            "_view_count": null,
            "_view_module": "@jupyter-widgets/controls",
            "_view_module_version": "1.5.0",
            "_view_name": "HTMLView",
            "description": "",
            "description_tooltip": null,
            "layout": "IPY_MODEL_65706e474e8c423981e088a250ae23ac",
            "placeholder": "​",
            "style": "IPY_MODEL_dca6427f17d842cf85f0f9a50ddaae18",
            "value": " 570/570 [00:00&lt;00:00, 45.6kB/s]"
          }
        },
        "e24e42bbbc44443799dacf99da4c6740": {
          "model_module": "@jupyter-widgets/base",
          "model_module_version": "1.2.0",
          "model_name": "LayoutModel",
          "state": {
            "_model_module": "@jupyter-widgets/base",
            "_model_module_version": "1.2.0",
            "_model_name": "LayoutModel",
            "_view_count": null,
            "_view_module": "@jupyter-widgets/base",
            "_view_module_version": "1.2.0",
            "_view_name": "LayoutView",
            "align_content": null,
            "align_items": null,
            "align_self": null,
            "border": null,
            "bottom": null,
            "display": null,
            "flex": null,
            "flex_flow": null,
            "grid_area": null,
            "grid_auto_columns": null,
            "grid_auto_flow": null,
            "grid_auto_rows": null,
            "grid_column": null,
            "grid_gap": null,
            "grid_row": null,
            "grid_template_areas": null,
            "grid_template_columns": null,
            "grid_template_rows": null,
            "height": null,
            "justify_content": null,
            "justify_items": null,
            "left": null,
            "margin": null,
            "max_height": null,
            "max_width": null,
            "min_height": null,
            "min_width": null,
            "object_fit": null,
            "object_position": null,
            "order": null,
            "overflow": null,
            "overflow_x": null,
            "overflow_y": null,
            "padding": null,
            "right": null,
            "top": null,
            "visibility": null,
            "width": null
          }
        },
        "e6cf672e836847b093256c36dff15f58": {
          "model_module": "@jupyter-widgets/controls",
          "model_module_version": "1.5.0",
          "model_name": "HTMLModel",
          "state": {
            "_dom_classes": [],
            "_model_module": "@jupyter-widgets/controls",
            "_model_module_version": "1.5.0",
            "_model_name": "HTMLModel",
            "_view_count": null,
            "_view_module": "@jupyter-widgets/controls",
            "_view_module_version": "1.5.0",
            "_view_name": "HTMLView",
            "description": "",
            "description_tooltip": null,
            "layout": "IPY_MODEL_5cca315f9ec54fecabff950c5e481ac5",
            "placeholder": "​",
            "style": "IPY_MODEL_aee6d26abb374ee09d34b4772290c1b3",
            "value": " 440M/440M [00:01&lt;00:00, 353MB/s]"
          }
        },
        "e6d15b176c924025bc97105c93f9e6ed": {
          "model_module": "@jupyter-widgets/controls",
          "model_module_version": "1.5.0",
          "model_name": "ProgressStyleModel",
          "state": {
            "_model_module": "@jupyter-widgets/controls",
            "_model_module_version": "1.5.0",
            "_model_name": "ProgressStyleModel",
            "_view_count": null,
            "_view_module": "@jupyter-widgets/base",
            "_view_module_version": "1.2.0",
            "_view_name": "StyleView",
            "bar_color": null,
            "description_width": ""
          }
        },
        "e94f9c4b43454b5d84905a23f07964c9": {
          "model_module": "@jupyter-widgets/base",
          "model_module_version": "1.2.0",
          "model_name": "LayoutModel",
          "state": {
            "_model_module": "@jupyter-widgets/base",
            "_model_module_version": "1.2.0",
            "_model_name": "LayoutModel",
            "_view_count": null,
            "_view_module": "@jupyter-widgets/base",
            "_view_module_version": "1.2.0",
            "_view_name": "LayoutView",
            "align_content": null,
            "align_items": null,
            "align_self": null,
            "border": null,
            "bottom": null,
            "display": null,
            "flex": null,
            "flex_flow": null,
            "grid_area": null,
            "grid_auto_columns": null,
            "grid_auto_flow": null,
            "grid_auto_rows": null,
            "grid_column": null,
            "grid_gap": null,
            "grid_row": null,
            "grid_template_areas": null,
            "grid_template_columns": null,
            "grid_template_rows": null,
            "height": null,
            "justify_content": null,
            "justify_items": null,
            "left": null,
            "margin": null,
            "max_height": null,
            "max_width": null,
            "min_height": null,
            "min_width": null,
            "object_fit": null,
            "object_position": null,
            "order": null,
            "overflow": null,
            "overflow_x": null,
            "overflow_y": null,
            "padding": null,
            "right": null,
            "top": null,
            "visibility": null,
            "width": null
          }
        },
        "f0a4546d106049a7947dbd023925bff9": {
          "model_module": "@jupyter-widgets/controls",
          "model_module_version": "1.5.0",
          "model_name": "DescriptionStyleModel",
          "state": {
            "_model_module": "@jupyter-widgets/controls",
            "_model_module_version": "1.5.0",
            "_model_name": "DescriptionStyleModel",
            "_view_count": null,
            "_view_module": "@jupyter-widgets/base",
            "_view_module_version": "1.2.0",
            "_view_name": "StyleView",
            "description_width": ""
          }
        }
      }
    }
  },
  "nbformat": 4,
  "nbformat_minor": 0
}